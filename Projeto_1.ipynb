{
 "cells": [
  {
   "cell_type": "markdown",
   "metadata": {},
   "source": [
    "# Projeto 1 - Ciência dos Dados"
   ]
  },
  {
   "cell_type": "markdown",
   "metadata": {},
   "source": [
    "Nome: <font color = \"red\">Greta Faria</font>\n",
    "\n",
    "Nome: <font color = \"red\">Maria Luiza Sevilha</font>"
   ]
  },
  {
   "cell_type": "markdown",
   "metadata": {},
   "source": [
    "Atenção: Serão permitidos grupos de três pessoas, mas com uma rubrica mais exigente. Grupos deste tamanho precisarão fazer um questionário de avaliação de trabalho em equipe"
   ]
  },
  {
   "cell_type": "markdown",
   "metadata": {},
   "source": [
    "___\n",
    "Carregando algumas bibliotecas:"
   ]
  },
  {
   "cell_type": "code",
   "execution_count": 1,
   "metadata": {},
   "outputs": [],
   "source": [
    "%matplotlib inline\n",
    "import pandas as pd\n",
    "import matplotlib.pyplot as plt\n",
    "import numpy as np\n",
    "import os\n",
    "import re "
   ]
  },
  {
   "cell_type": "code",
   "execution_count": 2,
   "metadata": {
    "scrolled": false
   },
   "outputs": [
    {
     "name": "stdout",
     "output_type": "stream",
     "text": [
      "Esperamos trabalhar no diretório\n",
      "c:\\Users\\malus\\CeDados\\Naive_Bayes\n"
     ]
    }
   ],
   "source": [
    "print('Esperamos trabalhar no diretório')\n",
    "print(os.getcwd())"
   ]
  },
  {
   "cell_type": "markdown",
   "metadata": {},
   "source": [
    "Carregando a base de dados com os tweets classificados manualmente:"
   ]
  },
  {
   "cell_type": "code",
   "execution_count": 3,
   "metadata": {},
   "outputs": [
    {
     "data": {
      "text/html": [
       "<div>\n",
       "<style scoped>\n",
       "    .dataframe tbody tr th:only-of-type {\n",
       "        vertical-align: middle;\n",
       "    }\n",
       "\n",
       "    .dataframe tbody tr th {\n",
       "        vertical-align: top;\n",
       "    }\n",
       "\n",
       "    .dataframe thead th {\n",
       "        text-align: right;\n",
       "    }\n",
       "</style>\n",
       "<table border=\"1\" class=\"dataframe\">\n",
       "  <thead>\n",
       "    <tr style=\"text-align: right;\">\n",
       "      <th></th>\n",
       "      <th>Mensagem</th>\n",
       "      <th>Target</th>\n",
       "    </tr>\n",
       "  </thead>\n",
       "  <tbody>\n",
       "    <tr>\n",
       "      <th>0</th>\n",
       "      <td>Gostei muito do livro. Prende a nossa atenção ...</td>\n",
       "      <td>Outros</td>\n",
       "    </tr>\n",
       "    <tr>\n",
       "      <th>1</th>\n",
       "      <td>Eu não compro esse livro!</td>\n",
       "      <td>Outros</td>\n",
       "    </tr>\n",
       "    <tr>\n",
       "      <th>2</th>\n",
       "      <td>Livro de agradável leitura, bastante esclarece...</td>\n",
       "      <td>Outros</td>\n",
       "    </tr>\n",
       "    <tr>\n",
       "      <th>3</th>\n",
       "      <td>Gostei mais de Sapiens, uma leitura mais bioló...</td>\n",
       "      <td>Outros</td>\n",
       "    </tr>\n",
       "    <tr>\n",
       "      <th>4</th>\n",
       "      <td>Não gostei</td>\n",
       "      <td>Outros</td>\n",
       "    </tr>\n",
       "  </tbody>\n",
       "</table>\n",
       "</div>"
      ],
      "text/plain": [
       "                                            Mensagem  Target\n",
       "0  Gostei muito do livro. Prende a nossa atenção ...  Outros\n",
       "1                          Eu não compro esse livro!  Outros\n",
       "2  Livro de agradável leitura, bastante esclarece...  Outros\n",
       "3  Gostei mais de Sapiens, uma leitura mais bioló...  Outros\n",
       "4                                         Não gostei  Outros"
      ]
     },
     "execution_count": 3,
     "metadata": {},
     "output_type": "execute_result"
    }
   ],
   "source": [
    "train = pd.read_excel('dados_treino_bruto.xlsx')\n",
    "train.head(5)"
   ]
  },
  {
   "cell_type": "code",
   "execution_count": 4,
   "metadata": {},
   "outputs": [
    {
     "data": {
      "text/html": [
       "<div>\n",
       "<style scoped>\n",
       "    .dataframe tbody tr th:only-of-type {\n",
       "        vertical-align: middle;\n",
       "    }\n",
       "\n",
       "    .dataframe tbody tr th {\n",
       "        vertical-align: top;\n",
       "    }\n",
       "\n",
       "    .dataframe thead th {\n",
       "        text-align: right;\n",
       "    }\n",
       "</style>\n",
       "<table border=\"1\" class=\"dataframe\">\n",
       "  <thead>\n",
       "    <tr style=\"text-align: right;\">\n",
       "      <th></th>\n",
       "      <th>Mensagem</th>\n",
       "      <th>Target</th>\n",
       "    </tr>\n",
       "  </thead>\n",
       "  <tbody>\n",
       "    <tr>\n",
       "      <th>0</th>\n",
       "      <td>Sou fã do canal, estava na primeira sessão da ...</td>\n",
       "      <td>Todos</td>\n",
       "    </tr>\n",
       "    <tr>\n",
       "      <th>1</th>\n",
       "      <td>Os fatos históricos relatados dão conhecimento...</td>\n",
       "      <td>Outros</td>\n",
       "    </tr>\n",
       "    <tr>\n",
       "      <th>2</th>\n",
       "      <td>Gostei de tudo, é engraçado dois personagem di...</td>\n",
       "      <td>Outros</td>\n",
       "    </tr>\n",
       "    <tr>\n",
       "      <th>3</th>\n",
       "      <td>Tão emocionante quanto o primeiro volume. Dand...</td>\n",
       "      <td>Outros</td>\n",
       "    </tr>\n",
       "    <tr>\n",
       "      <th>4</th>\n",
       "      <td>O título sugere algo mais profundo e nos induz...</td>\n",
       "      <td>Outros</td>\n",
       "    </tr>\n",
       "  </tbody>\n",
       "</table>\n",
       "</div>"
      ],
      "text/plain": [
       "                                            Mensagem  Target\n",
       "0  Sou fã do canal, estava na primeira sessão da ...   Todos\n",
       "1  Os fatos históricos relatados dão conhecimento...  Outros\n",
       "2  Gostei de tudo, é engraçado dois personagem di...  Outros\n",
       "3  Tão emocionante quanto o primeiro volume. Dand...  Outros\n",
       "4  O título sugere algo mais profundo e nos induz...  Outros"
      ]
     },
     "execution_count": 4,
     "metadata": {},
     "output_type": "execute_result"
    }
   ],
   "source": [
    "test = pd.read_excel('dados_teste_bruto.xlsx')\n",
    "test.head(5)"
   ]
  },
  {
   "cell_type": "markdown",
   "metadata": {},
   "source": [
    "___\n",
    "## Classificador automático\n"
   ]
  },
  {
   "cell_type": "markdown",
   "metadata": {},
   "source": [
    "Faça aqui uma descrição do seu assunto e o que considerou como relevante ou não relevante na classificação dos tweets (Target).\n",
    "\n",
    "O assunto abordado nas mensagens geradas são críticas de livros. Pensando nisso, desenvolvemos um classificador que direcionado pela divisão entre criticas direcionadas ao conteúdo do livro - podendo elas estarem relacionadas a percepção do livro como \"fraco\", ou a uma discordância do usuário com o assunto abordado, não compactuando com o que é dito - e ao processo de entrega."
   ]
  },
  {
   "cell_type": "markdown",
   "metadata": {},
   "source": [
    "___\n",
    "### Montando um Classificador Naive-Bayes\n",
    "\n",
    "Considerando apenas as mensagens da planilha Treinamento, ensine  seu classificador."
   ]
  },
  {
   "cell_type": "markdown",
   "metadata": {},
   "source": [
    "#### <u>Criando *DataFrames*</u>"
   ]
  },
  {
   "cell_type": "markdown",
   "metadata": {},
   "source": [
    "Fazendo inicialmente uma função para limpar as mensagens"
   ]
  },
  {
   "cell_type": "code",
   "execution_count": 5,
   "metadata": {},
   "outputs": [
    {
     "name": "stdout",
     "output_type": "stream",
     "text": [
      "Texto bruto:  A não ´ \" ser que haja ! várias : pontuações ; excluir tudo ? não de novo A que haja haja haja ❤\n",
      "Testo limpo:  A não   ser que haja  várias  pontuações  excluir tudo  não de novo A que haja haja haja ❤\n"
     ]
    }
   ],
   "source": [
    "# Importando a função cleanup\n",
    "def cleanup(text):\n",
    "    \"\"\"\n",
    "        Função de limpeza muito simples que troca alguns sinais básicos por espaços\n",
    "    \"\"\"\n",
    "    #import string\n",
    "    punctuation = '[´\"!-.:?;$'']' # Note que os sinais [] são delimitadores de um conjunto.\n",
    "    pattern = re.compile(punctuation)\n",
    "    text_subbed = re.sub(pattern, '', text)\n",
    "    return text_subbed\n",
    "\n",
    "# Testando a função de limpar mensagens\n",
    "texto = 'A não ´ \" ser que haja ! várias : pontuações ; excluir tudo ? não de novo A que haja haja haja ❤'\n",
    "print(\"Texto bruto: \", texto)\n",
    "print(\"Testo limpo: \", cleanup(texto))"
   ]
  },
  {
   "cell_type": "markdown",
   "metadata": {},
   "source": [
    "Agora, com essa função, precisamos dividir o nosso DataFrame \"**train**\" em três: um para a categoria \"*fraco*\", outro para a categoria \"*entrega*\" e outro para categoria \"*discordou*\". "
   ]
  },
  {
   "cell_type": "code",
   "execution_count": 6,
   "metadata": {},
   "outputs": [],
   "source": [
    "# Criando o DataFrame Fraco\n",
    "filtro_fraco = ((train['Target'] == 'Fraco') | (train['Target'] == 'Fraco e Discordou') | (train['Target'] == 'Entrega e Fraco') | (train['Target'] == 'Todos'))\n",
    "fraco = train.loc[filtro_fraco, :]\n",
    "\n",
    "# Criando o DataFrame Discordou\n",
    "filtro_discordou =  ((train['Target'] == 'Discordou') | (train['Target'] == 'Fraco e Discordou') | (train['Target'] == 'Entrega e Discordou') | (train['Target'] == 'Todos'))\n",
    "discordou = train.loc[filtro_discordou, : ]\n",
    "\n",
    "# Criando o DataFrame Entrega\n",
    "filtro_entrega =  ((train['Target'] == 'Entrega') | (train['Target'] == 'Entrega e Discordou') | (train['Target'] == 'Entrega e Fraco') | (train['Target'] == 'Todos'))\n",
    "entrega = train.loc[filtro_entrega, :]"
   ]
  },
  {
   "cell_type": "markdown",
   "metadata": {},
   "source": [
    "Agora vamos conferir os nossos dataframes:"
   ]
  },
  {
   "cell_type": "code",
   "execution_count": 7,
   "metadata": {},
   "outputs": [
    {
     "data": {
      "text/html": [
       "<div>\n",
       "<style scoped>\n",
       "    .dataframe tbody tr th:only-of-type {\n",
       "        vertical-align: middle;\n",
       "    }\n",
       "\n",
       "    .dataframe tbody tr th {\n",
       "        vertical-align: top;\n",
       "    }\n",
       "\n",
       "    .dataframe thead th {\n",
       "        text-align: right;\n",
       "    }\n",
       "</style>\n",
       "<table border=\"1\" class=\"dataframe\">\n",
       "  <thead>\n",
       "    <tr style=\"text-align: right;\">\n",
       "      <th></th>\n",
       "      <th>Mensagem</th>\n",
       "      <th>Target</th>\n",
       "    </tr>\n",
       "  </thead>\n",
       "  <tbody>\n",
       "    <tr>\n",
       "      <th>16</th>\n",
       "      <td>O livro está datado, não serve para os dias de...</td>\n",
       "      <td>Fraco e Discordou</td>\n",
       "    </tr>\n",
       "    <tr>\n",
       "      <th>17</th>\n",
       "      <td>Bobagem, 70% do livro são descrições de \"trepa...</td>\n",
       "      <td>Fraco e Discordou</td>\n",
       "    </tr>\n",
       "    <tr>\n",
       "      <th>18</th>\n",
       "      <td>A proposta do livro é legal, a ideia num geral...</td>\n",
       "      <td>Fraco e Discordou</td>\n",
       "    </tr>\n",
       "    <tr>\n",
       "      <th>19</th>\n",
       "      <td>Perdi tempo de ler autores como Gilberto Freyr...</td>\n",
       "      <td>Fraco e Discordou</td>\n",
       "    </tr>\n",
       "    <tr>\n",
       "      <th>20</th>\n",
       "      <td>Pra mim isso nem pode ser chamado de livro. A ...</td>\n",
       "      <td>Fraco e Discordou</td>\n",
       "    </tr>\n",
       "  </tbody>\n",
       "</table>\n",
       "</div>"
      ],
      "text/plain": [
       "                                             Mensagem             Target\n",
       "16  O livro está datado, não serve para os dias de...  Fraco e Discordou\n",
       "17  Bobagem, 70% do livro são descrições de \"trepa...  Fraco e Discordou\n",
       "18  A proposta do livro é legal, a ideia num geral...  Fraco e Discordou\n",
       "19  Perdi tempo de ler autores como Gilberto Freyr...  Fraco e Discordou\n",
       "20  Pra mim isso nem pode ser chamado de livro. A ...  Fraco e Discordou"
      ]
     },
     "execution_count": 7,
     "metadata": {},
     "output_type": "execute_result"
    }
   ],
   "source": [
    "# Conferindo o fraco\n",
    "fraco.head(5)"
   ]
  },
  {
   "cell_type": "code",
   "execution_count": 8,
   "metadata": {},
   "outputs": [
    {
     "data": {
      "text/html": [
       "<div>\n",
       "<style scoped>\n",
       "    .dataframe tbody tr th:only-of-type {\n",
       "        vertical-align: middle;\n",
       "    }\n",
       "\n",
       "    .dataframe tbody tr th {\n",
       "        vertical-align: top;\n",
       "    }\n",
       "\n",
       "    .dataframe thead th {\n",
       "        text-align: right;\n",
       "    }\n",
       "</style>\n",
       "<table border=\"1\" class=\"dataframe\">\n",
       "  <thead>\n",
       "    <tr style=\"text-align: right;\">\n",
       "      <th></th>\n",
       "      <th>Mensagem</th>\n",
       "      <th>Target</th>\n",
       "    </tr>\n",
       "  </thead>\n",
       "  <tbody>\n",
       "    <tr>\n",
       "      <th>16</th>\n",
       "      <td>O livro está datado, não serve para os dias de...</td>\n",
       "      <td>Fraco e Discordou</td>\n",
       "    </tr>\n",
       "    <tr>\n",
       "      <th>17</th>\n",
       "      <td>Bobagem, 70% do livro são descrições de \"trepa...</td>\n",
       "      <td>Fraco e Discordou</td>\n",
       "    </tr>\n",
       "    <tr>\n",
       "      <th>18</th>\n",
       "      <td>A proposta do livro é legal, a ideia num geral...</td>\n",
       "      <td>Fraco e Discordou</td>\n",
       "    </tr>\n",
       "    <tr>\n",
       "      <th>19</th>\n",
       "      <td>Perdi tempo de ler autores como Gilberto Freyr...</td>\n",
       "      <td>Fraco e Discordou</td>\n",
       "    </tr>\n",
       "    <tr>\n",
       "      <th>20</th>\n",
       "      <td>Pra mim isso nem pode ser chamado de livro. A ...</td>\n",
       "      <td>Fraco e Discordou</td>\n",
       "    </tr>\n",
       "  </tbody>\n",
       "</table>\n",
       "</div>"
      ],
      "text/plain": [
       "                                             Mensagem             Target\n",
       "16  O livro está datado, não serve para os dias de...  Fraco e Discordou\n",
       "17  Bobagem, 70% do livro são descrições de \"trepa...  Fraco e Discordou\n",
       "18  A proposta do livro é legal, a ideia num geral...  Fraco e Discordou\n",
       "19  Perdi tempo de ler autores como Gilberto Freyr...  Fraco e Discordou\n",
       "20  Pra mim isso nem pode ser chamado de livro. A ...  Fraco e Discordou"
      ]
     },
     "execution_count": 8,
     "metadata": {},
     "output_type": "execute_result"
    }
   ],
   "source": [
    "# Conferindo o discordou\n",
    "discordou.head(5)"
   ]
  },
  {
   "cell_type": "code",
   "execution_count": 9,
   "metadata": {},
   "outputs": [
    {
     "data": {
      "text/html": [
       "<div>\n",
       "<style scoped>\n",
       "    .dataframe tbody tr th:only-of-type {\n",
       "        vertical-align: middle;\n",
       "    }\n",
       "\n",
       "    .dataframe tbody tr th {\n",
       "        vertical-align: top;\n",
       "    }\n",
       "\n",
       "    .dataframe thead th {\n",
       "        text-align: right;\n",
       "    }\n",
       "</style>\n",
       "<table border=\"1\" class=\"dataframe\">\n",
       "  <thead>\n",
       "    <tr style=\"text-align: right;\">\n",
       "      <th></th>\n",
       "      <th>Mensagem</th>\n",
       "      <th>Target</th>\n",
       "    </tr>\n",
       "  </thead>\n",
       "  <tbody>\n",
       "    <tr>\n",
       "      <th>131</th>\n",
       "      <td>Não consegui passar da metade. É bem sem graça...</td>\n",
       "      <td>Entrega e Fraco</td>\n",
       "    </tr>\n",
       "    <tr>\n",
       "      <th>132</th>\n",
       "      <td>Não foi exatamente o que eu esperava. Tem muit...</td>\n",
       "      <td>Entrega e Fraco</td>\n",
       "    </tr>\n",
       "    <tr>\n",
       "      <th>133</th>\n",
       "      <td>A história era boa em 3 volumes, e mesmo a nov...</td>\n",
       "      <td>Entrega e Fraco</td>\n",
       "    </tr>\n",
       "    <tr>\n",
       "      <th>134</th>\n",
       "      <td>Livro mal escrito, mal traduzido, enredo confu...</td>\n",
       "      <td>Entrega e Fraco</td>\n",
       "    </tr>\n",
       "    <tr>\n",
       "      <th>135</th>\n",
       "      <td>Num mosteiro italiano em 1300, ocorreram algum...</td>\n",
       "      <td>Entrega e Fraco</td>\n",
       "    </tr>\n",
       "  </tbody>\n",
       "</table>\n",
       "</div>"
      ],
      "text/plain": [
       "                                              Mensagem           Target\n",
       "131  Não consegui passar da metade. É bem sem graça...  Entrega e Fraco\n",
       "132  Não foi exatamente o que eu esperava. Tem muit...  Entrega e Fraco\n",
       "133  A história era boa em 3 volumes, e mesmo a nov...  Entrega e Fraco\n",
       "134  Livro mal escrito, mal traduzido, enredo confu...  Entrega e Fraco\n",
       "135  Num mosteiro italiano em 1300, ocorreram algum...  Entrega e Fraco"
      ]
     },
     "execution_count": 9,
     "metadata": {},
     "output_type": "execute_result"
    }
   ],
   "source": [
    "# Conferindo o entrega\n",
    "entrega.head(5)"
   ]
  },
  {
   "cell_type": "markdown",
   "metadata": {},
   "source": [
    "Com os três dataframes criados, podemos partir para a próxima etapa!"
   ]
  },
  {
   "cell_type": "markdown",
   "metadata": {},
   "source": [
    "#### <u>Criando o \"português\"</u>"
   ]
  },
  {
   "cell_type": "markdown",
   "metadata": {},
   "source": [
    "Para fazermos o classificador, partimos da <b>suposição ingênua</b> de que todas as palavras do português estão contidas no nosso dataframe *train* com todas as mensagens. Assim:"
   ]
  },
  {
   "cell_type": "code",
   "execution_count": 10,
   "metadata": {},
   "outputs": [
    {
     "data": {
      "text/plain": [
       "o      0.034144\n",
       "de     0.033905\n",
       "a      0.031820\n",
       "que    0.031760\n",
       "e      0.030568\n",
       "dtype: float64"
      ]
     },
     "execution_count": 10,
     "metadata": {},
     "output_type": "execute_result"
    }
   ],
   "source": [
    "# Criando uma lista com todas as palavras do português\n",
    "portugues_bruto = list(train[\"Mensagem\"])\n",
    "portugues = []\n",
    "\n",
    "for mensagem in portugues_bruto:\n",
    "    mensagem = cleanup(mensagem.lower())\n",
    "    mensagem = mensagem.split()\n",
    "\n",
    "    for palavra in mensagem:\n",
    "        portugues.append(palavra)\n",
    "\n",
    "# Tranformando a lista em uma série\n",
    "serie_portugues = pd.Series(portugues)\n",
    "\n",
    "# Transformando a série em uma tabela com as frequências relativas de cada palavra\n",
    "tabela_portugues_relativa = serie_portugues.value_counts(True)\n",
    "\n",
    "# Testando para ver como está a nossa tabela\n",
    "tabela_portugues_relativa.head()"
   ]
  },
  {
   "cell_type": "markdown",
   "metadata": {},
   "source": [
    "Com o português criado, podemos começar a analisar os nossos dataframes, um por um."
   ]
  },
  {
   "cell_type": "markdown",
   "metadata": {},
   "source": [
    "#### <u>Criando a tabela de frequências relativas dos dataframes</u>"
   ]
  },
  {
   "cell_type": "markdown",
   "metadata": {},
   "source": [
    "As frequências relativas nos mostram a porcentagem de vezes que uma palavra aparece, dentro da amostra analisada. Essa porcentagem também pode ser analisada como a probabilidade de, dado que foi-se escolhida uma palavra qualquer, essa ser uma específica.\n",
    "\n",
    "##### Por exemplo:\n",
    "nas frequências relativas do português vemos que a palavra \"que\" tem 3.2% de aparição, dentre todas as mensagens. Assim, se fossemos escolher uma palavra qualquer dos dados colocados para realizar o dataframe português (o *DataFrame* train), há 3.2% de chanc de essa ser \"que\".\n",
    "\n",
    "##### Assim:"
   ]
  },
  {
   "cell_type": "code",
   "execution_count": 11,
   "metadata": {},
   "outputs": [
    {
     "data": {
      "text/plain": [
       "o      0.034445\n",
       "de     0.034288\n",
       "e      0.030670\n",
       "que    0.028625\n",
       "a      0.025794\n",
       "dtype: float64"
      ]
     },
     "execution_count": 11,
     "metadata": {},
     "output_type": "execute_result"
    }
   ],
   "source": [
    "# Criando uma tabela de frequências relativas para a categoria FRACO\n",
    "fraco_bruto = list(fraco[\"Mensagem\"])\n",
    "fraco_lista = []\n",
    "\n",
    "for mensagem in fraco_bruto:\n",
    "    mensagem = cleanup(mensagem.lower())\n",
    "    mensagem = mensagem.split()\n",
    "\n",
    "    for palavra in mensagem:\n",
    "        fraco_lista.append(palavra)\n",
    "\n",
    "# Tranformando a lista em uma série\n",
    "serie_fraco = pd.Series(fraco_lista)\n",
    "\n",
    "# Transformando a série em uma tabela com as frequências relativas de cada palavra\n",
    "tabela_fraco_relativa = serie_fraco.value_counts(True)\n",
    "\n",
    "# Testando para ver como está a nossa tabela\n",
    "tabela_fraco_relativa.head()"
   ]
  },
  {
   "cell_type": "code",
   "execution_count": 12,
   "metadata": {},
   "outputs": [
    {
     "data": {
      "text/plain": [
       "a      0.038531\n",
       "o      0.035509\n",
       "que    0.032185\n",
       "e      0.031127\n",
       "de     0.029012\n",
       "dtype: float64"
      ]
     },
     "execution_count": 12,
     "metadata": {},
     "output_type": "execute_result"
    }
   ],
   "source": [
    "# Criando uma tabela de frequências relativas para a categoria ENTREGA\n",
    "entrega_bruto = list(entrega[\"Mensagem\"])\n",
    "entrega_lista = []\n",
    "\n",
    "for mensagem in entrega_bruto:\n",
    "    mensagem = cleanup(mensagem.lower())\n",
    "    mensagem = mensagem.split()\n",
    "\n",
    "    for palavra in mensagem:\n",
    "        entrega_lista.append(palavra)\n",
    "\n",
    "# Tranformando a lista em uma série\n",
    "serie_entrega = pd.Series(entrega_lista)\n",
    "\n",
    "# Transformando a série em uma tabela com as frequências relativas de cada palavra\n",
    "tabela_entrega_relativa = serie_entrega.value_counts(True)\n",
    "\n",
    "# Testando para ver como está a nossa tabela\n",
    "tabela_entrega_relativa.head()"
   ]
  },
  {
   "cell_type": "code",
   "execution_count": 13,
   "metadata": {},
   "outputs": [
    {
     "data": {
      "text/plain": [
       "de     0.039128\n",
       "que    0.034299\n",
       "e      0.031136\n",
       "o      0.030470\n",
       "a      0.028638\n",
       "dtype: float64"
      ]
     },
     "execution_count": 13,
     "metadata": {},
     "output_type": "execute_result"
    }
   ],
   "source": [
    "# Criando uma tabela de frequências relativas para a categoria  DISCORDOU\n",
    "discordou_bruto = list(discordou[\"Mensagem\"])\n",
    "discordou_lista = []\n",
    "\n",
    "for mensagem in discordou_bruto:\n",
    "    mensagem = cleanup(mensagem.lower())\n",
    "    mensagem = mensagem.split()\n",
    "\n",
    "    for palavra in mensagem:\n",
    "        discordou_lista.append(palavra)\n",
    "\n",
    "# Tranformando a lista em uma série\n",
    "serie_discordou = pd.Series(discordou_lista)\n",
    "\n",
    "# Transformando a série em uma tabela com as frequências relativas de cada palavra\n",
    "tabela_discordou_relativa = serie_discordou.value_counts(True)\n",
    "\n",
    "# Testando para ver como está a nossa tabela\n",
    "tabela_discordou_relativa.head()"
   ]
  },
  {
   "cell_type": "code",
   "execution_count": 14,
   "metadata": {},
   "outputs": [
    {
     "name": "stdout",
     "output_type": "stream",
     "text": [
      "Português:  1.0\n",
      "Entrega:  1.0\n",
      "Fraco:  1.0\n",
      "Discordou:  1.0\n"
     ]
    }
   ],
   "source": [
    "# Último teste: conferindo se a soma das procentagens das tabelas dão 100%\n",
    "print(\"Português: \", tabela_portugues_relativa.sum())\n",
    "print(\"Entrega: \", tabela_entrega_relativa.sum())\n",
    "print(\"Fraco: \", tabela_fraco_relativa.sum())\n",
    "print(\"Discordou: \", tabela_discordou_relativa.sum())"
   ]
  },
  {
   "cell_type": "markdown",
   "metadata": {},
   "source": [
    "Ótimo! Agora podemos seguir em frente."
   ]
  },
  {
   "cell_type": "markdown",
   "metadata": {},
   "source": [
    "#### <u>Teorema de Bayes</u>"
   ]
  },
  {
   "cell_type": "markdown",
   "metadata": {},
   "source": [
    "Lembrando que o Teorema de Bayes diz:\n",
    "\n",
    "$\\quad P(A|B) = \\frac{P(B|A) \\cdot P(A)}{P(B)}$\n",
    "\n",
    "Além disso, lembremos da ingenuidade do teorema ao partir do princípio que as palavras são **independentes entre si** e que **sua ordem não importa** na frase."
   ]
  },
  {
   "cell_type": "markdown",
   "metadata": {},
   "source": [
    "Assim, se quisermos calcular a probabilidade de uma frase aparecer no *DataFrame*, faria-se:\n",
    "\n",
    "$P(Fraco|frase) = \\frac{P(P_1|Fraco) \\cdot P(P_2|Fraco) \\cdot P(P_3|Fraco)\\cdot...\\cdot P(P_n|Fraco) \\cdot P(Fraco)}{P(frase)}$\n",
    "\n",
    "Com \"P\" representando cada uma das palavras."
   ]
  },
  {
   "cell_type": "markdown",
   "metadata": {},
   "source": [
    "Assim, primeiro vamos calcular a probabilidade de, dado que certa palavra foi escolhida, ela ser de uma mensagem associada as categorias \"Fraco\", \"Entregou\" ou \"Discordou\".\n",
    "\n",
    "Ou seja, calcular: \n",
    "- $P(Fraco)$\n",
    "- $P(Entregou)$\n",
    "- $P(Discordou)$\n",
    "\n",
    "Assim:"
   ]
  },
  {
   "cell_type": "code",
   "execution_count": 15,
   "metadata": {},
   "outputs": [
    {
     "name": "stdout",
     "output_type": "stream",
     "text": [
      "Probabilidade de ser de 'entrega':  0.3943510904540579\n",
      "Probabilidade de ser de 'discordou':  0.35788344654987486\n",
      "Probabilidade de ser de 'fraco':  0.37885830056012393\n"
     ]
    }
   ],
   "source": [
    "# Total de palavras de cada um dos dataframes\n",
    "total_pt = len(portugues)\n",
    "\n",
    "total_e = len(entrega_lista)\n",
    "total_d = len(discordou_lista)\n",
    "total_f = len(fraco_lista)\n",
    "\n",
    "# Calculando as probabilidades de cada um dos dataframes:\n",
    "p_entrega = total_e/total_pt\n",
    "print(\"Probabilidade de ser de 'entrega': \", p_entrega)\n",
    "\n",
    "p_discordou = total_d/total_pt\n",
    "print(\"Probabilidade de ser de 'discordou': \", p_discordou)\n",
    "\n",
    "p_fraco = total_f/total_pt\n",
    "print(\"Probabilidade de ser de 'fraco': \", p_fraco)"
   ]
  },
  {
   "cell_type": "markdown",
   "metadata": {},
   "source": [
    "É de se perceber, porém, que a soma dessas probabilidades não iguala-se a 100%...\n",
    "\n",
    "**Como era esperado!**\n",
    "A nossa base de dados considera uma série de intersecções que estão sendo somadas mais de um vez e cada uma das probabilidades totais. Isso não é errado, já que desejamos chegar em classificações duplas ou até triplas por meio de mais de um classificador.\n",
    "\n",
    "Assim, faremos três classificadores que devem indicar se há mais probabilidade de, dada uma mensagem, ela ser ou não de determinado tipo. Ou seja, serão comparadas as probabilidades de:\n",
    "\n",
    "$P(nCategoria|Frase)$ e $P(Categoria|Frase)$\n",
    "\n",
    "Assim, vamos criar os DataFrames com todas as não categorias, fazendo os mesmos procedimentos que para a criação dos dataframes criados até agora."
   ]
  },
  {
   "cell_type": "markdown",
   "metadata": {},
   "source": [
    "#### <u>Criando as frequências relativas para as *não categorias*</u>"
   ]
  },
  {
   "cell_type": "markdown",
   "metadata": {},
   "source": [
    "##### Não Discordou"
   ]
  },
  {
   "cell_type": "code",
   "execution_count": 16,
   "metadata": {},
   "outputs": [
    {
     "data": {
      "text/html": [
       "<div>\n",
       "<style scoped>\n",
       "    .dataframe tbody tr th:only-of-type {\n",
       "        vertical-align: middle;\n",
       "    }\n",
       "\n",
       "    .dataframe tbody tr th {\n",
       "        vertical-align: top;\n",
       "    }\n",
       "\n",
       "    .dataframe thead th {\n",
       "        text-align: right;\n",
       "    }\n",
       "</style>\n",
       "<table border=\"1\" class=\"dataframe\">\n",
       "  <thead>\n",
       "    <tr style=\"text-align: right;\">\n",
       "      <th></th>\n",
       "      <th>Mensagem</th>\n",
       "      <th>Target</th>\n",
       "    </tr>\n",
       "  </thead>\n",
       "  <tbody>\n",
       "    <tr>\n",
       "      <th>293</th>\n",
       "      <td>O livro Veio mal lavrado e com as pontas dos l...</td>\n",
       "      <td>Entrega</td>\n",
       "    </tr>\n",
       "    <tr>\n",
       "      <th>294</th>\n",
       "      <td>pelo menos desde 2013 reclamam do abusivo preç...</td>\n",
       "      <td>Entrega</td>\n",
       "    </tr>\n",
       "    <tr>\n",
       "      <th>295</th>\n",
       "      <td>Acho um absurdo o preço que a Amazon coloca em...</td>\n",
       "      <td>Entrega</td>\n",
       "    </tr>\n",
       "    <tr>\n",
       "      <th>296</th>\n",
       "      <td>Jorge Candeiras é o tradutor da versão portugu...</td>\n",
       "      <td>Entrega</td>\n",
       "    </tr>\n",
       "    <tr>\n",
       "      <th>297</th>\n",
       "      <td>A tradução é mal feita...o tradutor parece não...</td>\n",
       "      <td>Entrega</td>\n",
       "    </tr>\n",
       "  </tbody>\n",
       "</table>\n",
       "</div>"
      ],
      "text/plain": [
       "                                              Mensagem   Target\n",
       "293  O livro Veio mal lavrado e com as pontas dos l...  Entrega\n",
       "294  pelo menos desde 2013 reclamam do abusivo preç...  Entrega\n",
       "295  Acho um absurdo o preço que a Amazon coloca em...  Entrega\n",
       "296  Jorge Candeiras é o tradutor da versão portugu...  Entrega\n",
       "297  A tradução é mal feita...o tradutor parece não...  Entrega"
      ]
     },
     "execution_count": 16,
     "metadata": {},
     "output_type": "execute_result"
    }
   ],
   "source": [
    "# Criando o DataFrame Não discordou Discordou\n",
    "filtro_nao_discordou =  ((train['Target'] != 'Discordou') & (train['Target'] != 'Fraco e Discordou') & (train['Target'] != 'Entrega e Discordou') & (train['Target'] != 'Todos'))\n",
    "nao_discordou = train.loc[filtro_nao_discordou, : ]\n",
    "\n",
    "# Checando se funcionou\n",
    "nao_discordou.tail()"
   ]
  },
  {
   "cell_type": "code",
   "execution_count": 17,
   "metadata": {},
   "outputs": [
    {
     "data": {
      "text/plain": [
       "o      0.036192\n",
       "a      0.033593\n",
       "de     0.030995\n",
       "que    0.030345\n",
       "e      0.030252\n",
       "dtype: float64"
      ]
     },
     "execution_count": 17,
     "metadata": {},
     "output_type": "execute_result"
    }
   ],
   "source": [
    "# Criando uma tabela de frequências relativas para a categoria NÃO DISCORDOU\n",
    "nao_discordou_bruto = list(nao_discordou[\"Mensagem\"])\n",
    "nao_discordou_lista = []\n",
    "\n",
    "for mensagem in nao_discordou_bruto:\n",
    "    mensagem = cleanup(mensagem.lower())\n",
    "    mensagem = mensagem.split()\n",
    "\n",
    "    for palavra in mensagem:\n",
    "        nao_discordou_lista.append(palavra)\n",
    "\n",
    "# Tranformando a lista em uma série\n",
    "serie_nao_discordou = pd.Series(nao_discordou_lista)\n",
    "\n",
    "# Transformando a série em uma tabela com as frequências relativas de cada palavra\n",
    "tabela_nao_discordou_relativa = serie_nao_discordou.value_counts(True)\n",
    "\n",
    "# Testando para ver como está a nossa tabela\n",
    "tabela_nao_discordou_relativa.head()"
   ]
  },
  {
   "cell_type": "markdown",
   "metadata": {},
   "source": [
    "##### Não Fraco"
   ]
  },
  {
   "cell_type": "code",
   "execution_count": 18,
   "metadata": {},
   "outputs": [
    {
     "data": {
      "text/html": [
       "<div>\n",
       "<style scoped>\n",
       "    .dataframe tbody tr th:only-of-type {\n",
       "        vertical-align: middle;\n",
       "    }\n",
       "\n",
       "    .dataframe tbody tr th {\n",
       "        vertical-align: top;\n",
       "    }\n",
       "\n",
       "    .dataframe thead th {\n",
       "        text-align: right;\n",
       "    }\n",
       "</style>\n",
       "<table border=\"1\" class=\"dataframe\">\n",
       "  <thead>\n",
       "    <tr style=\"text-align: right;\">\n",
       "      <th></th>\n",
       "      <th>Mensagem</th>\n",
       "      <th>Target</th>\n",
       "    </tr>\n",
       "  </thead>\n",
       "  <tbody>\n",
       "    <tr>\n",
       "      <th>294</th>\n",
       "      <td>pelo menos desde 2013 reclamam do abusivo preç...</td>\n",
       "      <td>Entrega</td>\n",
       "    </tr>\n",
       "    <tr>\n",
       "      <th>295</th>\n",
       "      <td>Acho um absurdo o preço que a Amazon coloca em...</td>\n",
       "      <td>Entrega</td>\n",
       "    </tr>\n",
       "    <tr>\n",
       "      <th>296</th>\n",
       "      <td>Jorge Candeiras é o tradutor da versão portugu...</td>\n",
       "      <td>Entrega</td>\n",
       "    </tr>\n",
       "    <tr>\n",
       "      <th>297</th>\n",
       "      <td>A tradução é mal feita...o tradutor parece não...</td>\n",
       "      <td>Entrega</td>\n",
       "    </tr>\n",
       "    <tr>\n",
       "      <th>299</th>\n",
       "      <td>Uma pena a editora ter se prestado a esse dess...</td>\n",
       "      <td>Entrega e Discordou</td>\n",
       "    </tr>\n",
       "  </tbody>\n",
       "</table>\n",
       "</div>"
      ],
      "text/plain": [
       "                                              Mensagem               Target\n",
       "294  pelo menos desde 2013 reclamam do abusivo preç...              Entrega\n",
       "295  Acho um absurdo o preço que a Amazon coloca em...              Entrega\n",
       "296  Jorge Candeiras é o tradutor da versão portugu...              Entrega\n",
       "297  A tradução é mal feita...o tradutor parece não...              Entrega\n",
       "299  Uma pena a editora ter se prestado a esse dess...  Entrega e Discordou"
      ]
     },
     "execution_count": 18,
     "metadata": {},
     "output_type": "execute_result"
    }
   ],
   "source": [
    "# Criando o DataFrame Não Fraco\n",
    "filtro_nao_fraco =  ((train['Target'] != 'Fraco') & (train['Target'] != 'Fraco e Discordou') & (train['Target'] != 'Entrega e Fraco') & (train['Target'] != 'Todos'))\n",
    "nao_fraco = train.loc[filtro_nao_fraco, : ]\n",
    "\n",
    "# Checando se funcionou\n",
    "nao_fraco.tail()"
   ]
  },
  {
   "cell_type": "code",
   "execution_count": 19,
   "metadata": {},
   "outputs": [
    {
     "data": {
      "text/plain": [
       "a      0.035495\n",
       "o      0.033960\n",
       "de     0.033672\n",
       "que    0.033672\n",
       "e      0.030507\n",
       "dtype: float64"
      ]
     },
     "execution_count": 19,
     "metadata": {},
     "output_type": "execute_result"
    }
   ],
   "source": [
    "# Criando uma tabela de frequências relativas para a categoria NÃO DISCORDOU\n",
    "nao_fraco_bruto = list(nao_fraco[\"Mensagem\"])\n",
    "nao_fraco_lista = []\n",
    "\n",
    "for mensagem in nao_fraco_bruto:\n",
    "    mensagem = cleanup(mensagem.lower())\n",
    "    mensagem = mensagem.split()\n",
    "\n",
    "    for palavra in mensagem:\n",
    "        nao_fraco_lista.append(palavra)\n",
    "\n",
    "# Tranformando a lista em uma série\n",
    "serie_nao_fraco = pd.Series(nao_fraco_lista)\n",
    "\n",
    "# Transformando a série em uma tabela com as frequências relativas de cada palavra\n",
    "tabela_nao_fraco_relativa = serie_nao_fraco.value_counts(True)\n",
    "\n",
    "# Testando para ver como está a nossa tabela\n",
    "tabela_nao_fraco_relativa.head()"
   ]
  },
  {
   "cell_type": "markdown",
   "metadata": {},
   "source": [
    "##### Não Entrega"
   ]
  },
  {
   "cell_type": "code",
   "execution_count": 20,
   "metadata": {},
   "outputs": [
    {
     "data": {
      "text/html": [
       "<div>\n",
       "<style scoped>\n",
       "    .dataframe tbody tr th:only-of-type {\n",
       "        vertical-align: middle;\n",
       "    }\n",
       "\n",
       "    .dataframe tbody tr th {\n",
       "        vertical-align: top;\n",
       "    }\n",
       "\n",
       "    .dataframe thead th {\n",
       "        text-align: right;\n",
       "    }\n",
       "</style>\n",
       "<table border=\"1\" class=\"dataframe\">\n",
       "  <thead>\n",
       "    <tr style=\"text-align: right;\">\n",
       "      <th></th>\n",
       "      <th>Mensagem</th>\n",
       "      <th>Target</th>\n",
       "    </tr>\n",
       "  </thead>\n",
       "  <tbody>\n",
       "    <tr>\n",
       "      <th>181</th>\n",
       "      <td>minha avalicao sobre o livro e a seguinte: e b...</td>\n",
       "      <td>Discordou</td>\n",
       "    </tr>\n",
       "    <tr>\n",
       "      <th>182</th>\n",
       "      <td>O autor trabalha com o pressuposto do surgimen...</td>\n",
       "      <td>Discordou</td>\n",
       "    </tr>\n",
       "    <tr>\n",
       "      <th>183</th>\n",
       "      <td>Esperava um livro com técnicas, mas não há nad...</td>\n",
       "      <td>Discordou</td>\n",
       "    </tr>\n",
       "    <tr>\n",
       "      <th>184</th>\n",
       "      <td>Escolhi o livro por acreditar no tema e indica...</td>\n",
       "      <td>Discordou</td>\n",
       "    </tr>\n",
       "    <tr>\n",
       "      <th>185</th>\n",
       "      <td>A percepção do autor sobre investimento é tota...</td>\n",
       "      <td>Discordou</td>\n",
       "    </tr>\n",
       "  </tbody>\n",
       "</table>\n",
       "</div>"
      ],
      "text/plain": [
       "                                              Mensagem     Target\n",
       "181  minha avalicao sobre o livro e a seguinte: e b...  Discordou\n",
       "182  O autor trabalha com o pressuposto do surgimen...  Discordou\n",
       "183  Esperava um livro com técnicas, mas não há nad...  Discordou\n",
       "184  Escolhi o livro por acreditar no tema e indica...  Discordou\n",
       "185  A percepção do autor sobre investimento é tota...  Discordou"
      ]
     },
     "execution_count": 20,
     "metadata": {},
     "output_type": "execute_result"
    }
   ],
   "source": [
    "# Criando o DataFrame Não Discordou\n",
    "filtro_nao_entregou =  ((train['Target'] != 'Entrega') & (train['Target'] != 'Entrega e Discordou') & (train['Target'] != 'Entrega e Fraco') & (train['Target'] != 'Todos'))\n",
    "nao_entregou = train.loc[filtro_nao_entregou, : ]\n",
    "\n",
    "# Checando se funcionou\n",
    "nao_entregou.tail()"
   ]
  },
  {
   "cell_type": "code",
   "execution_count": 21,
   "metadata": {},
   "outputs": [
    {
     "data": {
      "text/plain": [
       "de     0.037092\n",
       "o      0.033255\n",
       "que    0.031484\n",
       "e      0.030205\n",
       "a      0.027450\n",
       "dtype: float64"
      ]
     },
     "execution_count": 21,
     "metadata": {},
     "output_type": "execute_result"
    }
   ],
   "source": [
    "# Criando uma tabela de frequências relativas para a categoria NÃO DISCORDOU\n",
    "nao_entregou_bruto = list(nao_entregou[\"Mensagem\"])\n",
    "nao_entregou_lista = []\n",
    "\n",
    "for mensagem in nao_entregou_bruto:\n",
    "    mensagem = cleanup(mensagem.lower())\n",
    "    mensagem = mensagem.split()\n",
    "\n",
    "    for palavra in mensagem:\n",
    "        nao_entregou_lista.append(palavra)\n",
    "\n",
    "# Tranformando a lista em uma série\n",
    "serie_nao_entregou = pd.Series(nao_entregou_lista)\n",
    "\n",
    "# Transformando a série em uma tabela com as frequências relativas de cada palavra\n",
    "tabela_nao_entregou_relativa = serie_nao_entregou.value_counts(True)\n",
    "\n",
    "# Testando para ver como está a nossa tabela\n",
    "tabela_nao_entregou_relativa.head()"
   ]
  },
  {
   "cell_type": "markdown",
   "metadata": {},
   "source": [
    "##### Probabilidades das não categorias"
   ]
  },
  {
   "cell_type": "code",
   "execution_count": 22,
   "metadata": {},
   "outputs": [
    {
     "name": "stdout",
     "output_type": "stream",
     "text": [
      "ENTREGA\n",
      "Probabilidade de ser da categoria 'Entrega':  0.3943510904540579\n",
      "Probabilidade de ser da categoria 'Não Entrega':  0.6056489095459421\n",
      "Soma = 1.0\n",
      "--------------------------------------------------------------------------\n",
      "DISCORDOU\n",
      "Probabilidade de ser da categoria 'Discordou':  0.35788344654987486\n",
      "Probabilidade de ser da categoria 'Não Discordou':  0.6421165534501251\n",
      "Soma = 1.0\n",
      "--------------------------------------------------------------------------\n",
      "FRACO\n",
      "Probabilidade de ser da categoria 'Fraco':  0.37885830056012393\n",
      "Probabilidade de ser da categoria 'Não Fraco':  0.6211416994398761\n",
      "Soma = 1.0\n"
     ]
    }
   ],
   "source": [
    "# Total de elementos\n",
    "total_ne = len(nao_entregou_lista)\n",
    "total_nf = len(nao_fraco_lista)\n",
    "total_nd = len(nao_discordou_lista)\n",
    "\n",
    "# Probabilidades das não categorias\n",
    "p_nao_entregou = total_ne/total_pt\n",
    "p_nao_fraco = total_nf/total_pt\n",
    "p_nao_discordou = total_nd/total_pt\n",
    "\n",
    "# Conferindo se as probabilidades parecem corretas\n",
    "print(\"ENTREGA\")\n",
    "print(\"Probabilidade de ser da categoria 'Entrega': \", p_entrega)\n",
    "print(\"Probabilidade de ser da categoria 'Não Entrega': \", p_nao_entregou)\n",
    "print(\"Soma = {0}\".format(p_entrega + p_nao_entregou))\n",
    "print('--------------------------------------------------------------------------')\n",
    "print(\"DISCORDOU\")\n",
    "print(\"Probabilidade de ser da categoria 'Discordou': \", p_discordou)\n",
    "print(\"Probabilidade de ser da categoria 'Não Discordou': \", p_nao_discordou)\n",
    "print(\"Soma = {0}\".format(p_discordou + p_nao_discordou))\n",
    "print('--------------------------------------------------------------------------')\n",
    "print(\"FRACO\")\n",
    "print(\"Probabilidade de ser da categoria 'Fraco': \", p_fraco)\n",
    "print(\"Probabilidade de ser da categoria 'Não Fraco': \", p_nao_fraco)\n",
    "print(\"Soma = {0}\".format(p_fraco + p_nao_fraco))"
   ]
  },
  {
   "cell_type": "code",
   "execution_count": 23,
   "metadata": {},
   "outputs": [
    {
     "name": "stdout",
     "output_type": "stream",
     "text": [
      "Não Entrega:  1.0\n",
      "Não Fraco:  1.0000000000000002\n",
      "Não Discordou:  1.0\n"
     ]
    }
   ],
   "source": [
    "# Último teste: conferindo se a soma das procentagens das tabelas dão 100%\n",
    "print(\"Não Entrega: \", tabela_nao_entregou_relativa.sum())\n",
    "print(\"Não Fraco: \", tabela_nao_fraco_relativa.sum())\n",
    "print(\"Não Discordou: \", tabela_nao_discordou_relativa.sum())"
   ]
  },
  {
   "cell_type": "markdown",
   "metadata": {},
   "source": [
    "Parece bom o suficiente! Podemos, então partir pra próxima etapa do classificador."
   ]
  },
  {
   "cell_type": "markdown",
   "metadata": {},
   "source": [
    "#### <u>Suavizador de *Laplace*</u>"
   ]
  },
  {
   "cell_type": "markdown",
   "metadata": {},
   "source": [
    "Para passarmos a fazer o classificador, precisamos definir, primeiro, as variáveis de laplace, que pretendem corrigir um tipo específico de erro que o classificador do Naive-Bayes está sujeito: **a possibilidade de uma palavra não estar no banco de dados**.\n",
    "\n",
    "Como dissemos no início, o classificador é ingênuo ao assumir que todo o português está contido em sua database e que as palavras não dependem entre si em uma frase. Assim, se uma palavra tiver 0% de chance de aparecer em uma das databases, não necessariamente é desejado que ela não seja classificada daquela forma, já que **essa limitação pode ser dada pela ingenuidade do programa**.\n",
    "\n",
    "Assim, para corrigir essas probabilidades zeradas, mas não enviesar o classificador e nem \"atrapalhar a suas medições\", pode-se utilizar da suavização de laplace, que é dada pela fórmula abaixo:\n",
    "\n",
    "$P'(Categoria|frase) = \\frac{n_p + \\alpha}{N + \\alpha \\cdot k}$\n",
    "\n",
    "Com:\n",
    "- $n_p$ : número de hipóteses existentes (no nosso caso: contagem de cada palavra)\n",
    "    - Quantidade de hipóteses dentro da categoria que geram probabilidades positivas\n",
    "- $k$ : número de elementos na categoria da base de dados\n",
    "    - Dimensões da categoria\n",
    "- $\\alpha$ : coeficiente de suavização\n",
    "    - No nosso caso: $\\alpha = 1$\n",
    "- $N$ : número de elementos totais no \"português\"\n",
    "    - Quantidade de hipóteses totais que geram probabilidades positivas"
   ]
  },
  {
   "cell_type": "markdown",
   "metadata": {},
   "source": [
    "#### <u>*Logaritmos*</ul>"
   ]
  },
  {
   "cell_type": "markdown",
   "metadata": {},
   "source": [
    "Além disso, teremos que lidar com uma limitação do nosso projeto: **a aproximação do computador**. Assim, tendo a ingenuidade do classificador, fica claro que as probabilidades de cada uma das palavras é minúscula, sendo tão tão pequena que é arredondada pelo computador para 0.\n",
    "\n",
    "Para solucionar isso, dipusémos da ferramenta matemática do logarítimo, que pode ser utilizado justamente para casos assim: transformar dimensões imensamente grandes em menores entre si. Como o classificador tem fins comparativos, fica claro que a ferramenta matemática não atrapalhará os resultados, pois, assim como a suavização de *laplace* é utilizada igualmente em todos os valores e o projeto tem fins de produzir resultados qualitativos (uma classificação de fato) e não numéricos (não desejamos mostrar ao usuário a probabilidade que cada frase tem de ser classificada de determinada forma).\n",
    "\n",
    "Assim, cabe, ao fim, lembrar o formato dos logaritmos:"
   ]
  },
  {
   "cell_type": "markdown",
   "metadata": {},
   "source": [
    "log<sub>10</sub><sup>x</sup>$ = b$\n",
    "\n",
    "*ou:*\n",
    "\n",
    "$10^b = x$"
   ]
  },
  {
   "cell_type": "markdown",
   "metadata": {},
   "source": [
    "#### <u>Classificador *Naive-Bayes*</ul>"
   ]
  },
  {
   "cell_type": "code",
   "execution_count": 24,
   "metadata": {},
   "outputs": [],
   "source": [
    "# Importando os logaritmos de base 10 da biblioteca math\n",
    "from math import log10\n",
    "\n",
    "# Criando função que conta a quantidade de aparições da palavra em cada categoria\n",
    "def contagem(palavra):\n",
    "    # Conta aparições em \"entrega\"\n",
    "    entrega = 0 \n",
    "    for i in entrega_lista:\n",
    "        if i== palavra:\n",
    "            entrega+=1\n",
    "    # Conta aparições em \"não entrega\"\n",
    "    n_entrega = 0 \n",
    "    for i in nao_entregou_lista:\n",
    "        if i== palavra:\n",
    "            n_entrega+=1\n",
    "\n",
    "    # Conta aparições em \"fraco\"\n",
    "    fraco = 0\n",
    "    for i in fraco_lista:\n",
    "        if i == palavra:\n",
    "            fraco+=1\n",
    "    # Conta aparições em \"não fraco\"\n",
    "    n_fraco = 0 \n",
    "    for i in nao_fraco_lista:\n",
    "        if i== palavra:\n",
    "            n_fraco+=1\n",
    "\n",
    "    # Conta aparições em \"discordou\"\n",
    "    discordou = 0\n",
    "    for i in discordou_lista:\n",
    "        if i==palavra:\n",
    "            discordou+=1\n",
    "    # Conta aparições em \"não discordou\"\n",
    "    n_discordou = 0 \n",
    "    for i in nao_discordou_lista:\n",
    "        if i== palavra:\n",
    "            n_discordou+=1\n",
    "    \n",
    "    return [entrega,n_entrega,fraco,n_fraco,discordou,n_discordou]\n",
    "\n",
    "\n",
    "# Criando função classificadora\n",
    "def classificador(frase):\n",
    "    # Arrumando a frase\n",
    "    frase = cleanup(frase.lower())\n",
    "    frase = frase.split()\n",
    "\n",
    "    # Probabilidade Inicial:\n",
    "    p_eh_entrega = 1\n",
    "    p_n_entrega = 1\n",
    "\n",
    "    p_eh_fraco = 1\n",
    "    p_n_fraco = 1\n",
    "\n",
    "    p_eh_discordou = 1\n",
    "    p_n_discordou = 1\n",
    "\n",
    "    # Criando loop para cada palavra\n",
    "    for palavra in frase:\n",
    "        # Se a palavra não estiver na base de dados português\n",
    "        if palavra not in portugues:\n",
    "            \n",
    "            p_eh_entrega *= log10(1 / (total_e + total_pt))\n",
    "            p_n_entrega *= log10(1 / (total_ne + total_pt))\n",
    "\n",
    "            p_eh_fraco *= log10(1 / (total_f + total_pt))\n",
    "            p_n_fraco *= log10(1 / (total_nf + total_pt))\n",
    "\n",
    "            p_eh_discordou *= log10(1 / (total_d + total_pt))\n",
    "            p_n_discordou *= log10(1 / (total_nd + total_pt))\n",
    "        \n",
    "        # Se ela estiver\n",
    "        else:\n",
    "            contagens = contagem(palavra)\n",
    "            p_eh_entrega *= log10((contagens[0] + 1)/(total_e + total_pt))\n",
    "            p_n_entrega *= log10((contagens[1] + 1)/(total_ne + total_pt))\n",
    "\n",
    "            p_eh_fraco *= log10((contagens[2] + 1)/(total_f + total_pt))\n",
    "            p_n_fraco *= log10((contagens[3] + 1)/(total_nf + total_pt))\n",
    "\n",
    "            p_eh_discordou *= log10((contagens[4] + 1)/(total_d + total_pt))\n",
    "            p_n_discordou *= log10((contagens[5] + 1)/(total_nd + total_pt))\n",
    "\n",
    "    # Probabilidades\n",
    "    p_entrega = p_eh_entrega - p_n_entrega\n",
    "    p_fraco = p_eh_fraco - p_n_fraco\n",
    "    p_discorda = p_eh_discordou - p_n_discordou\n",
    "\n",
    "    lista_probs = [p_entrega, p_fraco, p_discorda]\n",
    "\n",
    "    # Definindo a categoria da palavra\n",
    "    # categoria 1 = entrega, categoria 3 = fraco, categoria 5 = discordou\n",
    "    cat = 0\n",
    "    if p_entrega >= max(lista_probs)/5:\n",
    "        cat += 1\n",
    "    if p_fraco >= max(lista_probs)/5:\n",
    "        cat += 3\n",
    "    if p_discordou >= max(lista_probs)/5:\n",
    "        cat +=5\n",
    "\n",
    "    # Retornando a classe com base nisso\n",
    "    if cat == 1 :\n",
    "        return 'Entrega'\n",
    "    if cat == 3:\n",
    "        return 'Fraco'\n",
    "    if cat == 5:\n",
    "        return 'Discordou'\n",
    "    if cat == 4:\n",
    "        return 'Entrega e Fraco'\n",
    "    if cat == 6:\n",
    "        return 'Entrega e Discordou'\n",
    "    if cat == 8:\n",
    "        return 'Fraco e Discordou'\n",
    "    if cat == 9:\n",
    "        return 'Todos'\n",
    "    if cat == 0:\n",
    "        return 'Outros'\n",
    "    "
   ]
  },
  {
   "cell_type": "markdown",
   "metadata": {},
   "source": [
    "___\n",
    "### Verificando a performance do Classificador\n",
    "\n",
    "Agora você deve testar o seu classificador com a base de Testes."
   ]
  },
  {
   "cell_type": "code",
   "execution_count": 25,
   "metadata": {},
   "outputs": [
    {
     "name": "stdout",
     "output_type": "stream",
     "text": [
      "20.0 %\n"
     ]
    }
   ],
   "source": [
    "# Definindo uma acurácia\n",
    "acuracia = 0\n",
    "\n",
    "# Definindo duas listas com as mensagens e os targets\n",
    "test_mensagens = list(test['Mensagem'])\n",
    "test_targets = list(test['Target'])\n",
    "\n",
    "# Criando a lista com as classificacoes listadas\n",
    "classificacoes = []\n",
    "\n",
    "# Criando o laço de repetição\n",
    "i = 0\n",
    "while i < len(test_mensagens):\n",
    "    # Pegando a mensagem e o target\n",
    "    mensagem = test_mensagens[i]\n",
    "    target = test_targets[i]\n",
    "\n",
    "    # Pegando a categoria e a guardando na lista de categorias\n",
    "    categoria = classificador(mensagem)\n",
    "    classificacoes.append(categoria)\n",
    "\n",
    "    # Conferindo se o classificador acertou\n",
    "    if categoria == target:\n",
    "        acuracia += 1\n",
    "    \n",
    "    i += 1\n",
    "\n",
    "# Criando base teste para comparar os resultados\n",
    "teste = test\n",
    "teste[\"Classificado\"] = classificacoes\n",
    "\n",
    "# Calculando a acurácia \n",
    "acuracia = 100*acuracia/len(test_mensagens)\n",
    "print(acuracia, '%')"
   ]
  },
  {
   "cell_type": "markdown",
   "metadata": {},
   "source": [
    "Como verificamos, porém, se essa acurácio representa ou não um bom classificador?\n",
    "\n",
    "Há dois três testes possíveis!\n",
    "\n",
    "- <u>Primeiro</u>: comparar com a frequência da classe mais frequente na base de testes! Essa frequência, se maior que a nossa acurácia, indica que o classificador não é adequado para a classificação e que, ou não pode ser usada para o tipo de classificação, ou deve ser aprimorado.\n",
    "\n",
    "- <u>Segundo</u>: Fazer uma tabela cruzada com os resultados do classificador comparados com as classificações do teste.\n",
    "\n",
    "- <u>Terceiro</u>: comparar as frequências de acerto entre as categorias. Muitas vezes o grande erro pode vir de uma má classificação de uma ou duas classes em específico. Assim, é interessante perceber quanto esses 20% são distribuídos pelas porcentagens de acerto."
   ]
  },
  {
   "cell_type": "markdown",
   "metadata": {},
   "source": [
    "#### <u>Frequência da categoria mais frequente</u>"
   ]
  },
  {
   "cell_type": "code",
   "execution_count": 26,
   "metadata": {},
   "outputs": [
    {
     "name": "stdout",
     "output_type": "stream",
     "text": [
      "Entrega                0.373333\n",
      "Fraco                  0.286667\n",
      "Discordou              0.160000\n",
      "Fraco e Discordou      0.096667\n",
      "Outros                 0.053333\n",
      "Entrega e Fraco        0.023333\n",
      "Todos                  0.003333\n",
      "Entrega e Discordou    0.003333\n",
      "Name: Target, dtype: float64\n"
     ]
    }
   ],
   "source": [
    "contagem_categorias = train['Target'].value_counts(True)\n",
    "\n",
    "print(contagem_categorias)"
   ]
  },
  {
   "cell_type": "markdown",
   "metadata": {},
   "source": [
    "Com base nessa análise, o nosso classificador é ruim, já que classifica corretamente apenas 20% dos valores, enquanto se apenas chutasse 'Entrega' (categoria mais frequente), acertaria 37.3%.\n",
    "\n",
    "Assim, cabe seguir para o próximo teste."
   ]
  },
  {
   "cell_type": "markdown",
   "metadata": {},
   "source": [
    "#### <u>Tabela comparativa</u>"
   ]
  },
  {
   "cell_type": "markdown",
   "metadata": {},
   "source": [
    "A tabela comparativa serve para fazer o cálculo dos falsos negativos e positivos e verdadeiros positivos e negativos. Assim, cabe fazer uma tabela cruzada entre os targets verdadeiros e a coluna classificados criada:"
   ]
  },
  {
   "cell_type": "code",
   "execution_count": 27,
   "metadata": {},
   "outputs": [
    {
     "data": {
      "text/html": [
       "<div>\n",
       "<style scoped>\n",
       "    .dataframe tbody tr th:only-of-type {\n",
       "        vertical-align: middle;\n",
       "    }\n",
       "\n",
       "    .dataframe tbody tr th {\n",
       "        vertical-align: top;\n",
       "    }\n",
       "\n",
       "    .dataframe thead th {\n",
       "        text-align: right;\n",
       "    }\n",
       "</style>\n",
       "<table border=\"1\" class=\"dataframe\">\n",
       "  <thead>\n",
       "    <tr style=\"text-align: right;\">\n",
       "      <th>Target</th>\n",
       "      <th>Discordou</th>\n",
       "      <th>Entrega</th>\n",
       "      <th>Entrega e Fraco</th>\n",
       "      <th>Fraco</th>\n",
       "      <th>Fraco e Discordou</th>\n",
       "      <th>Outros</th>\n",
       "      <th>Todos</th>\n",
       "    </tr>\n",
       "    <tr>\n",
       "      <th>Classificado</th>\n",
       "      <th></th>\n",
       "      <th></th>\n",
       "      <th></th>\n",
       "      <th></th>\n",
       "      <th></th>\n",
       "      <th></th>\n",
       "      <th></th>\n",
       "    </tr>\n",
       "  </thead>\n",
       "  <tbody>\n",
       "    <tr>\n",
       "      <th>Discordou</th>\n",
       "      <td>19</td>\n",
       "      <td>14</td>\n",
       "      <td>2</td>\n",
       "      <td>26</td>\n",
       "      <td>12</td>\n",
       "      <td>2</td>\n",
       "      <td>0</td>\n",
       "    </tr>\n",
       "    <tr>\n",
       "      <th>Entrega</th>\n",
       "      <td>2</td>\n",
       "      <td>13</td>\n",
       "      <td>0</td>\n",
       "      <td>10</td>\n",
       "      <td>7</td>\n",
       "      <td>0</td>\n",
       "      <td>0</td>\n",
       "    </tr>\n",
       "    <tr>\n",
       "      <th>Entrega e Fraco</th>\n",
       "      <td>13</td>\n",
       "      <td>2</td>\n",
       "      <td>3</td>\n",
       "      <td>18</td>\n",
       "      <td>9</td>\n",
       "      <td>4</td>\n",
       "      <td>1</td>\n",
       "    </tr>\n",
       "    <tr>\n",
       "      <th>Fraco</th>\n",
       "      <td>0</td>\n",
       "      <td>31</td>\n",
       "      <td>0</td>\n",
       "      <td>5</td>\n",
       "      <td>2</td>\n",
       "      <td>0</td>\n",
       "      <td>0</td>\n",
       "    </tr>\n",
       "    <tr>\n",
       "      <th>Outros</th>\n",
       "      <td>2</td>\n",
       "      <td>2</td>\n",
       "      <td>0</td>\n",
       "      <td>1</td>\n",
       "      <td>0</td>\n",
       "      <td>0</td>\n",
       "      <td>0</td>\n",
       "    </tr>\n",
       "  </tbody>\n",
       "</table>\n",
       "</div>"
      ],
      "text/plain": [
       "Target           Discordou  Entrega  Entrega e Fraco  Fraco  \\\n",
       "Classificado                                                  \n",
       "Discordou               19       14                2     26   \n",
       "Entrega                  2       13                0     10   \n",
       "Entrega e Fraco         13        2                3     18   \n",
       "Fraco                    0       31                0      5   \n",
       "Outros                   2        2                0      1   \n",
       "\n",
       "Target           Fraco e Discordou  Outros  Todos  \n",
       "Classificado                                       \n",
       "Discordou                       12       2      0  \n",
       "Entrega                          7       0      0  \n",
       "Entrega e Fraco                  9       4      1  \n",
       "Fraco                            2       0      0  \n",
       "Outros                           0       0      0  "
      ]
     },
     "execution_count": 27,
     "metadata": {},
     "output_type": "execute_result"
    }
   ],
   "source": [
    "# Criando a tabela comparativa\n",
    "tabela_comparativa = pd.crosstab(teste['Classificado'], teste['Target'])\n",
    "tabela_comparativa"
   ]
  },
  {
   "cell_type": "code",
   "execution_count": 28,
   "metadata": {},
   "outputs": [
    {
     "name": "stdout",
     "output_type": "stream",
     "text": [
      "Falso Negativo:  82.5 %\n",
      "Falso Positivo:  80.0 %\n"
     ]
    }
   ],
   "source": [
    "discordou = sum(list(tabela_comparativa['Discordou']))\n",
    "\n",
    "entrega = sum((list(tabela_comparativa['Entrega'])))\n",
    "\n",
    "entrega_fraco = sum((list(tabela_comparativa['Entrega e Fraco'])))\n",
    "\n",
    "fraco_discordou = sum((list(tabela_comparativa['Fraco e Discordou'])))\n",
    "\n",
    "fraco = sum((list(tabela_comparativa['Fraco'])))\n",
    "\n",
    "outros = sum((list(tabela_comparativa['Outros'])))\n",
    "\n",
    "todos = sum((list(tabela_comparativa['Outros'])))\n",
    "\n",
    "total = tabela_comparativa.sum().sum()\n",
    "\n",
    "falso_negativo = 100*((discordou - 19) + (entrega - 13) + (entrega_fraco - 3) + (fraco - 5) + fraco_discordou + outros + todos)/total\n",
    "falso_postivo = 100*((14 + 2 + 26 + 12 + 2) + (2 + 10 + 7) + (13 + 2 + 18 + 9 + 4 + 1) + (31 + 2) + (2 + 2 + 1))/total\n",
    "\n",
    "print('Falso Negativo: ', falso_negativo, '%')\n",
    "print('Falso Positivo: ', falso_postivo, '%')"
   ]
  },
  {
   "cell_type": "markdown",
   "metadata": {},
   "source": [
    "#### <u>Calculando os verdadeiros positivos</u>"
   ]
  },
  {
   "cell_type": "markdown",
   "metadata": {},
   "source": [
    "Uma próxima análise interessante é a dos verdadeiros positivos. Essa interpretação é equivalente para acurácia quando transposta para todas as classes. Porém, como a acurácia calculada foi menor que 20%, é interessante notar como a proporção de verdadeiros positivos se distribuem pelas classes do dataframe. Assim:"
   ]
  },
  {
   "cell_type": "code",
   "execution_count": 30,
   "metadata": {},
   "outputs": [],
   "source": [
    "# Criando uma função que calcula a acurácia do classificador\n",
    "def calcula_acuracia(dataframe):\n",
    "    # Definindo uma acurácia\n",
    "    acuracia = 0\n",
    "\n",
    "    # Definindo duas listas com as mensagens e os targets\n",
    "    test_mensagens = list(dataframe['Mensagem'])\n",
    "    test_targets = list(dataframe['Target'])\n",
    "\n",
    "    # Criando o laço de repetição\n",
    "    i = 0\n",
    "    while i < len(test_mensagens):\n",
    "        mensagem = test_mensagens[i]\n",
    "        target = test_targets[i]\n",
    "\n",
    "        categoria = classificador(mensagem)\n",
    "        if categoria == target:\n",
    "            acuracia += 1\n",
    "    \n",
    "        i += 1  \n",
    "\n",
    "    # Calculando a acurácia \n",
    "    acuracia = 100*acuracia/len(test_mensagens)\n",
    "    return(acuracia)"
   ]
  },
  {
   "cell_type": "code",
   "execution_count": 31,
   "metadata": {},
   "outputs": [
    {
     "name": "stdout",
     "output_type": "stream",
     "text": [
      "ENTREGA:  43.75\n",
      "DISCORDOU:  18.75\n",
      "FRACO:  33.72093023255814\n",
      "----------------------------------------------\n",
      "FRACO E DISCORDOU:  0.0\n",
      "FRACO E ENTREGA:  14.285714285714286\n",
      "DISCORDOU E ENTREGA:  0.0\n",
      "----------------------------------------------\n",
      "TODOS:  0.0\n",
      "OUTROS:  0.0\n"
     ]
    }
   ],
   "source": [
    "# Criando dataframes com somente um target\n",
    "df_entrega = train.loc[train['Target'] == 'Entrega', :]\n",
    "df_discordou = train.loc[train['Target'] == 'Discordou', :]\n",
    "df_fraco = train.loc[train['Target'] == 'Fraco', :]\n",
    "\n",
    "df_fraco_discordou = train.loc[train['Target'] == 'Fraco e Discordou', :]\n",
    "df_entrega_fraco = train.loc[train['Target'] == 'Entrega e Fraco', :]\n",
    "df_entrega_discordou = train.loc[train['Target'] == 'Entrega e Discordou']\n",
    "\n",
    "df_todos = train.loc[train['Target'] == 'Todos', :]\n",
    "df_outros = train.loc[train['Target'] == 'Outros', :]\n",
    "\n",
    "\n",
    "# Categorias puras\n",
    "acuracia_entrega = calcula_acuracia(df_entrega)\n",
    "print('ENTREGA: ', acuracia_entrega)\n",
    "\n",
    "acuracia_discordou = calcula_acuracia(df_discordou)\n",
    "print('DISCORDOU: ', acuracia_discordou)\n",
    "\n",
    "acuracia_fraco = calcula_acuracia(df_fraco)\n",
    "print('FRACO: ', acuracia_fraco)\n",
    "\n",
    "print('----------------------------------------------')\n",
    "# Categorias Intersecção de duas\n",
    "acuracia_fraco_discordou = calcula_acuracia(df_fraco_discordou)\n",
    "print('FRACO E DISCORDOU: ', acuracia_fraco_discordou)\n",
    "\n",
    "acuracia_fraco_entrega = calcula_acuracia(df_entrega_fraco)\n",
    "print('FRACO E ENTREGA: ', acuracia_fraco_entrega)\n",
    "\n",
    "acuracia_discordou_entrega = calcula_acuracia(df_entrega_discordou)\n",
    "print('DISCORDOU E ENTREGA: ', acuracia_discordou_entrega)\n",
    "\n",
    "print('----------------------------------------------')\n",
    "# Categorias com três intersecções\n",
    "acuracia_todos = calcula_acuracia(df_todos)\n",
    "print('TODOS: ', acuracia_todos)\n",
    "\n",
    "acuracia_outros = calcula_acuracia(df_outros)\n",
    "print('OUTROS: ', acuracia_outros)"
   ]
  },
  {
   "cell_type": "markdown",
   "metadata": {},
   "source": [
    "___\n",
    "### Concluindo"
   ]
  },
  {
   "cell_type": "markdown",
   "metadata": {},
   "source": [
    "Agora podemos fazer uma análise mais interessante. Considerando apenas as categorias brutas, sem as intersecções, o nosso classificador acerta mais do que a frequência das categorias, errando muito quando há dupla categoria e errando sempre quando há a interssecção de três categorias.\n",
    "\n",
    "Assim, o nosso classificador pode ser considerado adequado para classificar as categorias 'brutas' mas ruim para entender intersecções. Essa limitação dele, pode ser devido ou a uma **má realização de seus processos por nós**, ou a **limitação do classificador Naive-Bayes de identificar intersecções ou leves variâncias**.\n",
    "\n",
    "--\n",
    "\n",
    "Assim, alguns processos poderiam ser feitos para melhorar a acurácia do classificador, entre as melhorias tem-se:\n",
    "- <u>Lematização</u>: transformar os verbos em seus infinitivos e assim contabilizá-los de forma mais devida\n",
    "- <u>StopWords</u>: retirar da conta as palavras que pouco represetam as categorias (como artigos)\n",
    "- <u>Dados</u>: aumentar a quantidade de dados de forma que o classificador tenha acesso a mais informações e não seja mais tão ingênuo."
   ]
  },
  {
   "cell_type": "markdown",
   "metadata": {},
   "source": [
    "Assim, podemos concluir que o nosso classificador envolve categorias que não são independentes entre si, não sendo bem aplicadas para o caso escolhido, porém, se tivessemos escolhido categorias como \"acionável\" e \"não-acionável\", ele seria mais preciso e, logo, mais adequado. \n",
    "Outros usos para o classificador Naive-Bayes é a filtragem de conteúdo adulto, previsão do desempenho de estudantes e previsão de preços de imóveis. Todos esses casos utilizam de eventos independentes e, portanto, o classificador Naive-Bayes poderia ser adequado em suas classificações.\n",
    "\n",
    "Além disso, é importante ressaltar como classificadores não podem criar mais dados. Essa criação de dados por classificadores não pode ser feita, pois **criariam-se dados enviesados** pelos resultados de um algoritmo que possui uma determinada taxa de erro. Assim, embora os novos casos aumentassem a acurácia do classificador, esses poderiam não representar uma realidade e apenas corroborar um erro que o classificador já possuia."
   ]
  },
  {
   "cell_type": "markdown",
   "metadata": {},
   "source": [
    "___\n",
    "### Qualidade do Classificador a partir de novas separações dos tweets entre Treinamento e Teste\n",
    "\n",
    "Caso for fazer esse item do Projeto"
   ]
  },
  {
   "cell_type": "code",
   "execution_count": 33,
   "metadata": {},
   "outputs": [
    {
     "name": "stderr",
     "output_type": "stream",
     "text": [
      "100%|██████████| 100/100 [40:10<00:00, 24.10s/it] "
     ]
    },
    {
     "name": "stdout",
     "output_type": "stream",
     "text": [
      "[29.666666666666668, 27.666666666666668, 25.0, 27.333333333333332, 27.333333333333332, 25.0, 26.666666666666668, 26.333333333333332, 26.666666666666668, 26.333333333333332, 25.0, 25.666666666666668, 23.333333333333332, 27.333333333333332, 25.666666666666668, 25.666666666666668, 24.333333333333332, 26.0, 26.333333333333332, 24.666666666666668, 26.666666666666668, 26.0, 26.0, 26.0, 26.666666666666668, 26.0, 25.666666666666668, 27.0, 27.333333333333332, 25.666666666666668, 31.0, 27.333333333333332, 26.333333333333332, 28.333333333333332, 24.0, 29.0, 27.0, 28.0, 25.666666666666668, 24.333333333333332, 24.333333333333332, 26.666666666666668, 24.333333333333332, 25.0, 25.333333333333332, 27.333333333333332, 23.666666666666668, 25.333333333333332, 26.666666666666668, 24.333333333333332, 28.333333333333332, 26.333333333333332, 22.333333333333332, 25.0, 24.0, 27.333333333333332, 25.0, 25.666666666666668, 22.333333333333332, 23.666666666666668, 25.666666666666668, 26.666666666666668, 30.333333333333332, 24.333333333333332, 23.666666666666668, 27.333333333333332, 24.666666666666668, 25.666666666666668, 24.666666666666668, 27.0, 23.333333333333332, 25.666666666666668, 24.666666666666668, 26.333333333333332, 23.333333333333332, 22.333333333333332, 25.0, 26.333333333333332, 26.666666666666668, 25.0, 26.0, 25.0, 23.666666666666668, 27.666666666666668, 25.333333333333332, 26.0, 26.0, 23.666666666666668, 27.333333333333332, 23.0, 26.333333333333332, 26.333333333333332, 24.0, 26.666666666666668, 23.666666666666668, 27.0, 23.0, 26.333333333333332, 25.0, 24.666666666666668]\n"
     ]
    },
    {
     "name": "stderr",
     "output_type": "stream",
     "text": [
      "\n"
     ]
    }
   ],
   "source": [
    "from sklearn.model_selection import train_test_split\n",
    "from tqdm import tqdm\n",
    "dataframe_teste_e_treino = pd.merge(test, train, on=['Mensagem', 'Target'], how='outer')\n",
    "lista_acuracia = []\n",
    "\n",
    "for i in tqdm(range(100)):\n",
    "    train, test = train_test_split(dataframe_teste_e_treino, test_size=300)\n",
    "\n",
    "    # Criando o DataFrame Fraco\n",
    "    filtro_fraco = ((train['Target'] == 'Fraco') | (train['Target'] == 'Fraco e Discordou') | (train['Target'] == 'Entrega e Fraco') | (train['Target'] == 'Todos'))\n",
    "    fraco = train.loc[filtro_fraco, :]\n",
    "\n",
    "    # Criando o DataFrame Discordou\n",
    "    filtro_discordou =  ((train['Target'] == 'Discordou') | (train['Target'] == 'Fraco e Discordou') | (train['Target'] == 'Entrega e Discordou') | (train['Target'] == 'Todos'))\n",
    "    discordou = train.loc[filtro_discordou, : ]\n",
    "\n",
    "    # Criando o DataFrame Entrega\n",
    "    filtro_entrega =  ((train['Target'] == 'Entrega') | (train['Target'] == 'Entrega e Discordou') | (train['Target'] == 'Entrega e Fraco') | (train['Target'] == 'Todos'))\n",
    "    entrega = train.loc[filtro_entrega, :]\n",
    "\n",
    "    # Criando o DataFrame Não discordou Discordou\n",
    "    filtro_nao_discordou =  ((train['Target'] != 'Discordou') & (train['Target'] != 'Fraco e Discordou') & (train['Target'] != 'Entrega e Discordou') & (train['Target'] != 'Todos'))\n",
    "    nao_discordou = train.loc[filtro_nao_discordou, : ]\n",
    "\n",
    "    # Criando o DataFrame Não Fraco\n",
    "    filtro_nao_fraco =  ((train['Target'] != 'Fraco') & (train['Target'] != 'Fraco e Discordou') & (train['Target'] != 'Entrega e Fraco') & (train['Target'] != 'Todos'))\n",
    "    nao_fraco = train.loc[filtro_nao_fraco, : ]\n",
    "\n",
    "    # Criando o DataFrame Não Discordou\n",
    "    filtro_nao_entregou =  ((train['Target'] != 'Entrega') & (train['Target'] != 'Entrega e Discordou') & (train['Target'] != 'Entrega e Fraco') & (train['Target'] != 'Todos'))\n",
    "    nao_entregou = train.loc[filtro_nao_entregou, : ]\n",
    "\n",
    "    # Definindo uma acurácia\n",
    "    acuracia = 0\n",
    "\n",
    "    # Definindo duas listas com as mensagens e os targets\n",
    "    test_mensagens = list(test['Mensagem'])\n",
    "    test_targets = list(test['Target'])\n",
    "\n",
    "    # Criando o laço de repetição\n",
    "    i = 0\n",
    "    while i < len(test_mensagens):\n",
    "        mensagem = test_mensagens[i]\n",
    "        target = test_targets[i]\n",
    "\n",
    "        categoria = classificador(mensagem)\n",
    "        if categoria == target:\n",
    "            acuracia += 1\n",
    "    \n",
    "        i += 1\n",
    "\n",
    "    # Calculando a acurácia \n",
    "    acuracia = 100*acuracia/len(test_mensagens)\n",
    "    lista_acuracia.append(acuracia)\n",
    "\n",
    "print(lista_acuracia)"
   ]
  },
  {
   "cell_type": "markdown",
   "metadata": {},
   "source": [
    "##### Fazendo um histograma com as acurácias do classificador"
   ]
  },
  {
   "cell_type": "code",
   "execution_count": 39,
   "metadata": {},
   "outputs": [
    {
     "data": {
      "image/png": "[encoded data removed]",
      "text/plain": [
       "<Figure size 640x480 with 1 Axes>"
      ]
     },
     "metadata": {},
     "output_type": "display_data"
    }
   ],
   "source": [
    "# Criando o histograma\n",
    "plt.hist(lista_acuracia, edgecolor='white', density=True)\n",
    "\n",
    "# Configurando a visualização\n",
    "plt.title(\"Acurácias distribuídas por ocorrência\")\n",
    "plt.grid(True)\n",
    "plt.xlabel('Acurácia')\n",
    "plt.ylabel('Densidade')\n",
    "\n",
    "# Mostrando o gráfico\n",
    "plt.show()\n"
   ]
  },
  {
   "cell_type": "markdown",
   "metadata": {},
   "source": [
    "Com base no gráfico, percebe-se que a acurácia média é até maior do que a obtida com o a base de dados 'teste', porém, raramente supera os 30%. Assim, é possível perceber que o nosso classificador opera nessa faixa e produz resultados coerentes variando cerca de 10% na acurácia."
   ]
  },
  {
   "cell_type": "markdown",
   "metadata": {},
   "source": [
    "___\n",
    "## Aperfeiçoamento:\n",
    "\n",
    "Trabalhos que conseguirem pelo menos conceito B vão evoluir em conceito dependendo da quantidade de itens avançados:\n",
    "\n",
    "* IMPLEMENTOU outras limpezas e transformações que não afetem a qualidade da informação contida nos tweets. Ex: stemming, lemmatization, stopwords\n",
    "* CONSIDEROU mais de duas categorias na variável Target e INCREMENTOU a quantidade de notícias, mantendo pelo menos 250 notícias por categoria (OBRIGATÓRIO PARA TRIOS, sem contar como item avançado)\n",
    "* Para Target com duas categorias: CRIOU pelo menos quatro categorias intermediárias de relevância baseadas na probabilidade: ex.: muito relevante, relevante, neutro, irrelevante, muito irrelevante\n",
    "* EXPLICOU porquê não pode usar o próprio classificador para gerar mais amostras de treinamento\n",
    "* PROPÔS diferentes cenários para Naïve Bayes fora do contexto do projeto (pelo menos dois cenários, exceto aqueles já apresentados em sala pelos professores: por exemplo, filtro de spam)\n",
    "* SUGERIU e EXPLICOU melhorias reais com indicações concretas de como implementar (indicar como fazer e indicar material de pesquisa)\n",
    "* FEZ o item Qualidade do Classificador a partir de novas separações das Notícias entre Treinamento e Teste descrito no enunciado do projeto (OBRIGATÓRIO para conceitos A ou A+)"
   ]
  },
  {
   "cell_type": "markdown",
   "metadata": {},
   "source": [
    "___\n",
    "## Referências"
   ]
  },
  {
   "cell_type": "markdown",
   "metadata": {},
   "source": [
    "[Naive Bayes and Text Classification](https://arxiv.org/pdf/1410.5329.pdf)  **Mais completo**\n",
    "\n",
    "[A practical explanation of a Naive Bayes Classifier](https://monkeylearn.com/blog/practical-explanation-naive-bayes-classifier/) **Mais simples**\n",
    "\n",
    "[Aprendizagem Bayesiana](https://www.inf.ufpr.br/menotti/ci171-182/slides/ci171-bayes.pdf) **UFPR**\n",
    "\n",
    "[Analytics Vidhy](https://www.analyticsvidhya.com/blog/2021/04/improve-naive-bayes-text-classifier-using-laplace-smoothing/) **Mais sobre a suavização de Laplace**\n",
    "\n",
    "[Regular expression operations](https://docs.python.org/3/library/re.html#) **Biblioteca para a função cleanup**"
   ]
  }
 ],
 "metadata": {
  "kernelspec": {
   "display_name": "Python 3",
   "language": "python",
   "name": "python3"
  },
  "language_info": {
   "codemirror_mode": {
    "name": "ipython",
    "version": 3
   },
   "file_extension": ".py",
   "mimetype": "text/x-python",
   "name": "python",
   "nbconvert_exporter": "python",
   "pygments_lexer": "ipython3",
   "version": "3.9.13"
  }
 },
 "nbformat": 4,
 "nbformat_minor": 4
}
