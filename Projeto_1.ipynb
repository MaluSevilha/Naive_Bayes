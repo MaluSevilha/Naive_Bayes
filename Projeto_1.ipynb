{
 "cells": [
  {
   "cell_type": "markdown",
   "metadata": {},
   "source": [
    "# Projeto 1 - Ciência dos Dados"
   ]
  },
  {
   "cell_type": "markdown",
   "metadata": {},
   "source": [
    "Nome: <font color = \"red\">Greta Faria</font>\n",
    "\n",
    "Nome: <font color = \"red\">Maria Luiza Sevilha</font>"
   ]
  },
  {
   "cell_type": "markdown",
   "metadata": {},
   "source": [
    "Atenção: Serão permitidos grupos de três pessoas, mas com uma rubrica mais exigente. Grupos deste tamanho precisarão fazer um questionário de avaliação de trabalho em equipe"
   ]
  },
  {
   "cell_type": "markdown",
   "metadata": {},
   "source": [
    "___\n",
    "Carregando algumas bibliotecas:"
   ]
  },
  {
   "cell_type": "code",
   "execution_count": 2,
   "metadata": {},
   "outputs": [],
   "source": [
    "%matplotlib inline\n",
    "import pandas as pd\n",
    "import matplotlib.pyplot as plt\n",
    "import numpy as np\n",
    "import os\n",
    "import re "
   ]
  },
  {
   "cell_type": "code",
   "execution_count": 3,
   "metadata": {
    "scrolled": false
   },
   "outputs": [
    {
     "name": "stdout",
     "output_type": "stream",
     "text": [
      "Esperamos trabalhar no diretório\n",
      "c:\\Users\\malus\\CeDados\\Naive_Bayes\n"
     ]
    }
   ],
   "source": [
    "print('Esperamos trabalhar no diretório')\n",
    "print(os.getcwd())"
   ]
  },
  {
   "cell_type": "markdown",
   "metadata": {},
   "source": [
    "Carregando a base de dados com os tweets classificados manualmente:"
   ]
  },
  {
   "cell_type": "code",
   "execution_count": 4,
   "metadata": {},
   "outputs": [
    {
     "data": {
      "text/html": [
       "<div>\n",
       "<style scoped>\n",
       "    .dataframe tbody tr th:only-of-type {\n",
       "        vertical-align: middle;\n",
       "    }\n",
       "\n",
       "    .dataframe tbody tr th {\n",
       "        vertical-align: top;\n",
       "    }\n",
       "\n",
       "    .dataframe thead th {\n",
       "        text-align: right;\n",
       "    }\n",
       "</style>\n",
       "<table border=\"1\" class=\"dataframe\">\n",
       "  <thead>\n",
       "    <tr style=\"text-align: right;\">\n",
       "      <th></th>\n",
       "      <th>Mensagem</th>\n",
       "      <th>Target</th>\n",
       "    </tr>\n",
       "  </thead>\n",
       "  <tbody>\n",
       "    <tr>\n",
       "      <th>0</th>\n",
       "      <td>Gostei muito do livro. Prende a nossa atenção ...</td>\n",
       "      <td>Outros</td>\n",
       "    </tr>\n",
       "    <tr>\n",
       "      <th>1</th>\n",
       "      <td>Eu não compro esse livro!</td>\n",
       "      <td>Outros</td>\n",
       "    </tr>\n",
       "    <tr>\n",
       "      <th>2</th>\n",
       "      <td>Livro de agradável leitura, bastante esclarece...</td>\n",
       "      <td>Outros</td>\n",
       "    </tr>\n",
       "    <tr>\n",
       "      <th>3</th>\n",
       "      <td>Gostei mais de Sapiens, uma leitura mais bioló...</td>\n",
       "      <td>Outros</td>\n",
       "    </tr>\n",
       "    <tr>\n",
       "      <th>4</th>\n",
       "      <td>Não gostei</td>\n",
       "      <td>Outros</td>\n",
       "    </tr>\n",
       "  </tbody>\n",
       "</table>\n",
       "</div>"
      ],
      "text/plain": [
       "                                            Mensagem  Target\n",
       "0  Gostei muito do livro. Prende a nossa atenção ...  Outros\n",
       "1                          Eu não compro esse livro!  Outros\n",
       "2  Livro de agradável leitura, bastante esclarece...  Outros\n",
       "3  Gostei mais de Sapiens, uma leitura mais bioló...  Outros\n",
       "4                                         Não gostei  Outros"
      ]
     },
     "execution_count": 4,
     "metadata": {},
     "output_type": "execute_result"
    }
   ],
   "source": [
    "train = pd.read_excel('dados_treino_bruto.xlsx')\n",
    "train.head(5)"
   ]
  },
  {
   "cell_type": "code",
   "execution_count": 5,
   "metadata": {},
   "outputs": [
    {
     "data": {
      "text/html": [
       "<div>\n",
       "<style scoped>\n",
       "    .dataframe tbody tr th:only-of-type {\n",
       "        vertical-align: middle;\n",
       "    }\n",
       "\n",
       "    .dataframe tbody tr th {\n",
       "        vertical-align: top;\n",
       "    }\n",
       "\n",
       "    .dataframe thead th {\n",
       "        text-align: right;\n",
       "    }\n",
       "</style>\n",
       "<table border=\"1\" class=\"dataframe\">\n",
       "  <thead>\n",
       "    <tr style=\"text-align: right;\">\n",
       "      <th></th>\n",
       "      <th>Mensagem</th>\n",
       "      <th>Target</th>\n",
       "    </tr>\n",
       "  </thead>\n",
       "  <tbody>\n",
       "    <tr>\n",
       "      <th>0</th>\n",
       "      <td>Sou fã do canal, estava na primeira sessão da ...</td>\n",
       "      <td>Todos</td>\n",
       "    </tr>\n",
       "    <tr>\n",
       "      <th>1</th>\n",
       "      <td>Os fatos históricos relatados dão conhecimento...</td>\n",
       "      <td>Outros</td>\n",
       "    </tr>\n",
       "    <tr>\n",
       "      <th>2</th>\n",
       "      <td>Gostei de tudo, é engraçado dois personagem di...</td>\n",
       "      <td>Outros</td>\n",
       "    </tr>\n",
       "    <tr>\n",
       "      <th>3</th>\n",
       "      <td>Tão emocionante quanto o primeiro volume. Dand...</td>\n",
       "      <td>Outros</td>\n",
       "    </tr>\n",
       "    <tr>\n",
       "      <th>4</th>\n",
       "      <td>O título sugere algo mais profundo e nos induz...</td>\n",
       "      <td>Outros</td>\n",
       "    </tr>\n",
       "  </tbody>\n",
       "</table>\n",
       "</div>"
      ],
      "text/plain": [
       "                                            Mensagem  Target\n",
       "0  Sou fã do canal, estava na primeira sessão da ...   Todos\n",
       "1  Os fatos históricos relatados dão conhecimento...  Outros\n",
       "2  Gostei de tudo, é engraçado dois personagem di...  Outros\n",
       "3  Tão emocionante quanto o primeiro volume. Dand...  Outros\n",
       "4  O título sugere algo mais profundo e nos induz...  Outros"
      ]
     },
     "execution_count": 5,
     "metadata": {},
     "output_type": "execute_result"
    }
   ],
   "source": [
    "test = pd.read_excel('dados_teste_bruto.xlsx')\n",
    "test.head(5)"
   ]
  },
  {
   "cell_type": "markdown",
   "metadata": {},
   "source": [
    "___\n",
    "## Classificador automático\n"
   ]
  },
  {
   "cell_type": "markdown",
   "metadata": {},
   "source": [
    "Faça aqui uma descrição do seu assunto e o que considerou como relevante ou não relevante na classificação dos tweets (Target).\n",
    "\n",
    "O assunto abordado nas mensagens geradas são críticas de livros. Pensando nisso, desenvolvemos um classificador que direcionado pela divisão entre criticas direcionadas ao conteúdo do livro - podendo elas estarem relacionadas a percepção do livro como \"fraco\", ou a uma discordância do usuário com o assunto abordado, não compactuando com o que é dito - e ao processo de entrega."
   ]
  },
  {
   "cell_type": "markdown",
   "metadata": {},
   "source": [
    "___\n",
    "### Montando um Classificador Naive-Bayes\n",
    "\n",
    "Considerando apenas as mensagens da planilha Treinamento, ensine  seu classificador."
   ]
  },
  {
   "cell_type": "markdown",
   "metadata": {},
   "source": [
    "#### <u>Criando *DataFrames*</u>"
   ]
  },
  {
   "cell_type": "markdown",
   "metadata": {},
   "source": [
    "Fazendo inicialmente uma função para limpar as mensagens"
   ]
  },
  {
   "cell_type": "code",
   "execution_count": 6,
   "metadata": {},
   "outputs": [
    {
     "name": "stdout",
     "output_type": "stream",
     "text": [
      "Texto bruto:  A não ´ \" ser que haja ! várias : pontuações ; excluir tudo ? não de novo A que haja haja haja ❤\n",
      "Testo limpo:  A não   ser que haja  várias  pontuações  excluir tudo  não de novo A que haja haja haja ❤\n"
     ]
    }
   ],
   "source": [
    "# Importando a função cleanup\n",
    "def cleanup(text):\n",
    "    \"\"\"\n",
    "        Função de limpeza muito simples que troca alguns sinais básicos por espaços\n",
    "    \"\"\"\n",
    "    #import string\n",
    "    punctuation = '[´\"!-.:?;$'']' # Note que os sinais [] são delimitadores de um conjunto.\n",
    "    pattern = re.compile(punctuation)\n",
    "    text_subbed = re.sub(pattern, '', text)\n",
    "    return text_subbed\n",
    "\n",
    "# Testando a função de limpar mensagens\n",
    "texto = 'A não ´ \" ser que haja ! várias : pontuações ; excluir tudo ? não de novo A que haja haja haja ❤'\n",
    "print(\"Texto bruto: \", texto)\n",
    "print(\"Testo limpo: \", cleanup(texto))"
   ]
  },
  {
   "cell_type": "markdown",
   "metadata": {},
   "source": [
    "Agora, com essa função, precisamos dividir o nosso DataFrame \"**train**\" em três: um para a categoria \"*fraco*\", outro para a categoria \"*entrega*\" e outro para categoria \"*discordou*\". "
   ]
  },
  {
   "cell_type": "code",
   "execution_count": 7,
   "metadata": {},
   "outputs": [],
   "source": [
    "# Criando o DataFrame Fraco\n",
    "filtro_fraco = ((train['Target'] == 'Fraco') | (train['Target'] == 'Fraco e Discordou') | (train['Target'] == 'Entrega e Fraco') | (train['Target'] == 'Todos'))\n",
    "fraco = train.loc[filtro_fraco, :]\n",
    "\n",
    "# Criando o DataFrame Discordou\n",
    "filtro_discordou =  ((train['Target'] == 'Discordou') | (train['Target'] == 'Fraco e Discordou') | (train['Target'] == 'Entrega e Discordou') | (train['Target'] == 'Todos'))\n",
    "discordou = train.loc[filtro_discordou, : ]\n",
    "\n",
    "# Criando o DataFrame Entrega\n",
    "filtro_entrega =  ((train['Target'] == 'Entrega') | (train['Target'] == 'Entrega e Discordou') | (train['Target'] == 'Entrega e Fraco') | (train['Target'] == 'Todos'))\n",
    "entrega = train.loc[filtro_entrega, :]"
   ]
  },
  {
   "cell_type": "markdown",
   "metadata": {},
   "source": [
    "Agora vamos conferir os nossos dataframes:"
   ]
  },
  {
   "cell_type": "code",
   "execution_count": 8,
   "metadata": {},
   "outputs": [
    {
     "data": {
      "text/html": [
       "<div>\n",
       "<style scoped>\n",
       "    .dataframe tbody tr th:only-of-type {\n",
       "        vertical-align: middle;\n",
       "    }\n",
       "\n",
       "    .dataframe tbody tr th {\n",
       "        vertical-align: top;\n",
       "    }\n",
       "\n",
       "    .dataframe thead th {\n",
       "        text-align: right;\n",
       "    }\n",
       "</style>\n",
       "<table border=\"1\" class=\"dataframe\">\n",
       "  <thead>\n",
       "    <tr style=\"text-align: right;\">\n",
       "      <th></th>\n",
       "      <th>Mensagem</th>\n",
       "      <th>Target</th>\n",
       "    </tr>\n",
       "  </thead>\n",
       "  <tbody>\n",
       "    <tr>\n",
       "      <th>16</th>\n",
       "      <td>O livro está datado, não serve para os dias de...</td>\n",
       "      <td>Fraco e Discordou</td>\n",
       "    </tr>\n",
       "    <tr>\n",
       "      <th>17</th>\n",
       "      <td>Bobagem, 70% do livro são descrições de \"trepa...</td>\n",
       "      <td>Fraco e Discordou</td>\n",
       "    </tr>\n",
       "    <tr>\n",
       "      <th>18</th>\n",
       "      <td>A proposta do livro é legal, a ideia num geral...</td>\n",
       "      <td>Fraco e Discordou</td>\n",
       "    </tr>\n",
       "    <tr>\n",
       "      <th>19</th>\n",
       "      <td>Perdi tempo de ler autores como Gilberto Freyr...</td>\n",
       "      <td>Fraco e Discordou</td>\n",
       "    </tr>\n",
       "    <tr>\n",
       "      <th>20</th>\n",
       "      <td>Pra mim isso nem pode ser chamado de livro. A ...</td>\n",
       "      <td>Fraco e Discordou</td>\n",
       "    </tr>\n",
       "  </tbody>\n",
       "</table>\n",
       "</div>"
      ],
      "text/plain": [
       "                                             Mensagem             Target\n",
       "16  O livro está datado, não serve para os dias de...  Fraco e Discordou\n",
       "17  Bobagem, 70% do livro são descrições de \"trepa...  Fraco e Discordou\n",
       "18  A proposta do livro é legal, a ideia num geral...  Fraco e Discordou\n",
       "19  Perdi tempo de ler autores como Gilberto Freyr...  Fraco e Discordou\n",
       "20  Pra mim isso nem pode ser chamado de livro. A ...  Fraco e Discordou"
      ]
     },
     "execution_count": 8,
     "metadata": {},
     "output_type": "execute_result"
    }
   ],
   "source": [
    "# Conferindo o fraco\n",
    "fraco.head(5)"
   ]
  },
  {
   "cell_type": "code",
   "execution_count": 9,
   "metadata": {},
   "outputs": [
    {
     "data": {
      "text/html": [
       "<div>\n",
       "<style scoped>\n",
       "    .dataframe tbody tr th:only-of-type {\n",
       "        vertical-align: middle;\n",
       "    }\n",
       "\n",
       "    .dataframe tbody tr th {\n",
       "        vertical-align: top;\n",
       "    }\n",
       "\n",
       "    .dataframe thead th {\n",
       "        text-align: right;\n",
       "    }\n",
       "</style>\n",
       "<table border=\"1\" class=\"dataframe\">\n",
       "  <thead>\n",
       "    <tr style=\"text-align: right;\">\n",
       "      <th></th>\n",
       "      <th>Mensagem</th>\n",
       "      <th>Target</th>\n",
       "    </tr>\n",
       "  </thead>\n",
       "  <tbody>\n",
       "    <tr>\n",
       "      <th>16</th>\n",
       "      <td>O livro está datado, não serve para os dias de...</td>\n",
       "      <td>Fraco e Discordou</td>\n",
       "    </tr>\n",
       "    <tr>\n",
       "      <th>17</th>\n",
       "      <td>Bobagem, 70% do livro são descrições de \"trepa...</td>\n",
       "      <td>Fraco e Discordou</td>\n",
       "    </tr>\n",
       "    <tr>\n",
       "      <th>18</th>\n",
       "      <td>A proposta do livro é legal, a ideia num geral...</td>\n",
       "      <td>Fraco e Discordou</td>\n",
       "    </tr>\n",
       "    <tr>\n",
       "      <th>19</th>\n",
       "      <td>Perdi tempo de ler autores como Gilberto Freyr...</td>\n",
       "      <td>Fraco e Discordou</td>\n",
       "    </tr>\n",
       "    <tr>\n",
       "      <th>20</th>\n",
       "      <td>Pra mim isso nem pode ser chamado de livro. A ...</td>\n",
       "      <td>Fraco e Discordou</td>\n",
       "    </tr>\n",
       "  </tbody>\n",
       "</table>\n",
       "</div>"
      ],
      "text/plain": [
       "                                             Mensagem             Target\n",
       "16  O livro está datado, não serve para os dias de...  Fraco e Discordou\n",
       "17  Bobagem, 70% do livro são descrições de \"trepa...  Fraco e Discordou\n",
       "18  A proposta do livro é legal, a ideia num geral...  Fraco e Discordou\n",
       "19  Perdi tempo de ler autores como Gilberto Freyr...  Fraco e Discordou\n",
       "20  Pra mim isso nem pode ser chamado de livro. A ...  Fraco e Discordou"
      ]
     },
     "execution_count": 9,
     "metadata": {},
     "output_type": "execute_result"
    }
   ],
   "source": [
    "# Conferindo o discordou\n",
    "discordou.head(5)"
   ]
  },
  {
   "cell_type": "code",
   "execution_count": 10,
   "metadata": {},
   "outputs": [
    {
     "data": {
      "text/html": [
       "<div>\n",
       "<style scoped>\n",
       "    .dataframe tbody tr th:only-of-type {\n",
       "        vertical-align: middle;\n",
       "    }\n",
       "\n",
       "    .dataframe tbody tr th {\n",
       "        vertical-align: top;\n",
       "    }\n",
       "\n",
       "    .dataframe thead th {\n",
       "        text-align: right;\n",
       "    }\n",
       "</style>\n",
       "<table border=\"1\" class=\"dataframe\">\n",
       "  <thead>\n",
       "    <tr style=\"text-align: right;\">\n",
       "      <th></th>\n",
       "      <th>Mensagem</th>\n",
       "      <th>Target</th>\n",
       "    </tr>\n",
       "  </thead>\n",
       "  <tbody>\n",
       "    <tr>\n",
       "      <th>131</th>\n",
       "      <td>Não consegui passar da metade. É bem sem graça...</td>\n",
       "      <td>Entrega e Fraco</td>\n",
       "    </tr>\n",
       "    <tr>\n",
       "      <th>132</th>\n",
       "      <td>Não foi exatamente o que eu esperava. Tem muit...</td>\n",
       "      <td>Entrega e Fraco</td>\n",
       "    </tr>\n",
       "    <tr>\n",
       "      <th>133</th>\n",
       "      <td>A história era boa em 3 volumes, e mesmo a nov...</td>\n",
       "      <td>Entrega e Fraco</td>\n",
       "    </tr>\n",
       "    <tr>\n",
       "      <th>134</th>\n",
       "      <td>Livro mal escrito, mal traduzido, enredo confu...</td>\n",
       "      <td>Entrega e Fraco</td>\n",
       "    </tr>\n",
       "    <tr>\n",
       "      <th>135</th>\n",
       "      <td>Num mosteiro italiano em 1300, ocorreram algum...</td>\n",
       "      <td>Entrega e Fraco</td>\n",
       "    </tr>\n",
       "  </tbody>\n",
       "</table>\n",
       "</div>"
      ],
      "text/plain": [
       "                                              Mensagem           Target\n",
       "131  Não consegui passar da metade. É bem sem graça...  Entrega e Fraco\n",
       "132  Não foi exatamente o que eu esperava. Tem muit...  Entrega e Fraco\n",
       "133  A história era boa em 3 volumes, e mesmo a nov...  Entrega e Fraco\n",
       "134  Livro mal escrito, mal traduzido, enredo confu...  Entrega e Fraco\n",
       "135  Num mosteiro italiano em 1300, ocorreram algum...  Entrega e Fraco"
      ]
     },
     "execution_count": 10,
     "metadata": {},
     "output_type": "execute_result"
    }
   ],
   "source": [
    "# Conferindo o entrega\n",
    "entrega.head(5)"
   ]
  },
  {
   "cell_type": "markdown",
   "metadata": {},
   "source": [
    "Com os três dataframes criados, podemos partir para a próxima etapa!"
   ]
  },
  {
   "cell_type": "markdown",
   "metadata": {},
   "source": [
    "#### <u>Criando o \"português\"</u>"
   ]
  },
  {
   "cell_type": "markdown",
   "metadata": {},
   "source": [
    "Para fazermos o classificador, partimos da <b>suposição ingênua</b> de que todas as palavras do português estão contidas no nosso dataframe *train* com todas as mensagens. Assim:"
   ]
  },
  {
   "cell_type": "code",
   "execution_count": 11,
   "metadata": {},
   "outputs": [
    {
     "data": {
      "text/plain": [
       "o      0.034144\n",
       "de     0.033905\n",
       "a      0.031820\n",
       "que    0.031760\n",
       "e      0.030568\n",
       "dtype: float64"
      ]
     },
     "execution_count": 11,
     "metadata": {},
     "output_type": "execute_result"
    }
   ],
   "source": [
    "# Criando uma lista com todas as palavras do português\n",
    "portugues_bruto = list(train[\"Mensagem\"])\n",
    "portugues = []\n",
    "\n",
    "for mensagem in portugues_bruto:\n",
    "    mensagem = cleanup(mensagem.lower())\n",
    "    mensagem = mensagem.split()\n",
    "\n",
    "    for palavra in mensagem:\n",
    "        portugues.append(palavra)\n",
    "\n",
    "# Tranformando a lista em uma série\n",
    "serie_portugues = pd.Series(portugues)\n",
    "\n",
    "# Transformando a série em uma tabela com as frequências relativas de cada palavra\n",
    "tabela_portugues_relativa = serie_portugues.value_counts(True)\n",
    "\n",
    "# Testando para ver como está a nossa tabela\n",
    "tabela_portugues_relativa.head()"
   ]
  },
  {
   "cell_type": "markdown",
   "metadata": {},
   "source": [
    "Com o português criado, podemos começar a analisar os nossos dataframes, um por um."
   ]
  },
  {
   "cell_type": "markdown",
   "metadata": {},
   "source": [
    "#### <u>Criando a tabela de frequências relativas dos dataframes</u>"
   ]
  },
  {
   "cell_type": "markdown",
   "metadata": {},
   "source": [
    "As frequências relativas nos mostram a porcentagem de vezes que uma palavra aparece, dentro da amostra analisada. Essa porcentagem também pode ser analisada como a probabilidade de, dado que foi-se escolhida uma palavra qualquer, essa ser uma específica.\n",
    "\n",
    "##### Por exemplo:\n",
    "nas frequências relativas do português vemos que a palavra \"que\" tem 3.2% de aparição, dentre todas as mensagens. Assim, se fossemos escolher uma palavra qualquer dos dados colocados para realizar o dataframe português (o *DataFrame* train), há 3.2% de chanc de essa ser \"que\".\n",
    "\n",
    "##### Assim:"
   ]
  },
  {
   "cell_type": "code",
   "execution_count": 12,
   "metadata": {},
   "outputs": [
    {
     "data": {
      "text/plain": [
       "o      0.034445\n",
       "de     0.034288\n",
       "e      0.030670\n",
       "que    0.028625\n",
       "a      0.025794\n",
       "dtype: float64"
      ]
     },
     "execution_count": 12,
     "metadata": {},
     "output_type": "execute_result"
    }
   ],
   "source": [
    "# Criando uma tabela de frequências relativas para a categoria FRACO\n",
    "fraco_bruto = list(fraco[\"Mensagem\"])\n",
    "fraco_lista = []\n",
    "\n",
    "for mensagem in fraco_bruto:\n",
    "    mensagem = cleanup(mensagem.lower())\n",
    "    mensagem = mensagem.split()\n",
    "\n",
    "    for palavra in mensagem:\n",
    "        fraco_lista.append(palavra)\n",
    "\n",
    "# Tranformando a lista em uma série\n",
    "serie_fraco = pd.Series(fraco_lista)\n",
    "\n",
    "# Transformando a série em uma tabela com as frequências relativas de cada palavra\n",
    "tabela_fraco_relativa = serie_fraco.value_counts(True)\n",
    "\n",
    "# Testando para ver como está a nossa tabela\n",
    "tabela_fraco_relativa.head()"
   ]
  },
  {
   "cell_type": "code",
   "execution_count": 13,
   "metadata": {},
   "outputs": [
    {
     "data": {
      "text/plain": [
       "a      0.038531\n",
       "o      0.035509\n",
       "que    0.032185\n",
       "e      0.031127\n",
       "de     0.029012\n",
       "dtype: float64"
      ]
     },
     "execution_count": 13,
     "metadata": {},
     "output_type": "execute_result"
    }
   ],
   "source": [
    "# Criando uma tabela de frequências relativas para a categoria ENTREGA\n",
    "entrega_bruto = list(entrega[\"Mensagem\"])\n",
    "entrega_lista = []\n",
    "\n",
    "for mensagem in entrega_bruto:\n",
    "    mensagem = cleanup(mensagem.lower())\n",
    "    mensagem = mensagem.split()\n",
    "\n",
    "    for palavra in mensagem:\n",
    "        entrega_lista.append(palavra)\n",
    "\n",
    "# Tranformando a lista em uma série\n",
    "serie_entrega = pd.Series(entrega_lista)\n",
    "\n",
    "# Transformando a série em uma tabela com as frequências relativas de cada palavra\n",
    "tabela_entrega_relativa = serie_entrega.value_counts(True)\n",
    "\n",
    "# Testando para ver como está a nossa tabela\n",
    "tabela_entrega_relativa.head()"
   ]
  },
  {
   "cell_type": "code",
   "execution_count": 14,
   "metadata": {},
   "outputs": [
    {
     "data": {
      "text/plain": [
       "de     0.039128\n",
       "que    0.034299\n",
       "e      0.031136\n",
       "o      0.030470\n",
       "a      0.028638\n",
       "dtype: float64"
      ]
     },
     "execution_count": 14,
     "metadata": {},
     "output_type": "execute_result"
    }
   ],
   "source": [
    "# Criando uma tabela de frequências relativas para a categoria  DISCORDOU\n",
    "discordou_bruto = list(discordou[\"Mensagem\"])\n",
    "discordou_lista = []\n",
    "\n",
    "for mensagem in discordou_bruto:\n",
    "    mensagem = cleanup(mensagem.lower())\n",
    "    mensagem = mensagem.split()\n",
    "\n",
    "    for palavra in mensagem:\n",
    "        discordou_lista.append(palavra)\n",
    "\n",
    "# Tranformando a lista em uma série\n",
    "serie_discordou = pd.Series(discordou_lista)\n",
    "\n",
    "# Transformando a série em uma tabela com as frequências relativas de cada palavra\n",
    "tabela_discordou_relativa = serie_discordou.value_counts(True)\n",
    "\n",
    "# Testando para ver como está a nossa tabela\n",
    "tabela_discordou_relativa.head()"
   ]
  },
  {
   "cell_type": "code",
   "execution_count": 15,
   "metadata": {},
   "outputs": [
    {
     "name": "stdout",
     "output_type": "stream",
     "text": [
      "Português:  1.0\n",
      "Entrega:  1.0\n",
      "Fraco:  1.0\n",
      "Discordou:  1.0\n"
     ]
    }
   ],
   "source": [
    "# Último teste: conferindo se a soma das procentagens das tabelas dão 100%\n",
    "print(\"Português: \", tabela_portugues_relativa.sum())\n",
    "print(\"Entrega: \", tabela_entrega_relativa.sum())\n",
    "print(\"Fraco: \", tabela_fraco_relativa.sum())\n",
    "print(\"Discordou: \", tabela_discordou_relativa.sum())"
   ]
  },
  {
   "cell_type": "markdown",
   "metadata": {},
   "source": [
    "Ótimo! Agora podemos seguir em frente."
   ]
  },
  {
   "cell_type": "markdown",
   "metadata": {},
   "source": [
    "#### <u>Teorema de Bayes</u>"
   ]
  },
  {
   "cell_type": "markdown",
   "metadata": {},
   "source": [
    "Lembrando que o Teorema de Bayes diz:\n",
    "\n",
    "$\\quad P(A|B) = \\frac{P(B|A) \\cdot P(A)}{P(B)}$\n",
    "\n",
    "Além disso, lembremos da ingenuidade do teorema ao partir do princípio que as palavras são **independentes entre si** e que **sua ordem não importa** na frase."
   ]
  },
  {
   "cell_type": "markdown",
   "metadata": {},
   "source": [
    "Assim, se quisermos calcular a probabilidade de uma frase aparecer no *DataFrame*, faria-se:\n",
    "\n",
    "$P(Fraco|frase) = \\frac{P(P_1|Fraco) \\cdot P(P_2|Fraco) \\cdot P(P_3|Fraco)\\cdot...\\cdot P(P_n|Fraco) \\cdot P(Fraco)}{P(frase)}$\n",
    "\n",
    "Com \"P\" representando cada uma das palavras."
   ]
  },
  {
   "cell_type": "markdown",
   "metadata": {},
   "source": [
    "Assim, primeiro vamos calcular a probabilidade de, dado que certa palavra foi escolhida, ela ser de uma mensagem associada as categorias \"Fraco\", \"Entregou\" ou \"Discordou\".\n",
    "\n",
    "Ou seja, calcular: \n",
    "- $P(Fraco)$\n",
    "- $P(Entregou)$\n",
    "- $P(Discordou)$\n",
    "\n",
    "Assim:"
   ]
  },
  {
   "cell_type": "code",
   "execution_count": 16,
   "metadata": {},
   "outputs": [
    {
     "name": "stdout",
     "output_type": "stream",
     "text": [
      "Probabilidade de ser de 'entrega':  0.3943510904540579\n",
      "Probabilidade de ser de 'discordou':  0.35788344654987486\n",
      "Probabilidade de ser de 'fraco':  0.37885830056012393\n"
     ]
    }
   ],
   "source": [
    "# Total de palavras de cada um dos dataframes\n",
    "total_pt = len(portugues)\n",
    "\n",
    "total_e = len(entrega_lista)\n",
    "total_d = len(discordou_lista)\n",
    "total_f = len(fraco_lista)\n",
    "\n",
    "# Calculando as probabilidades de cada um dos dataframes:\n",
    "p_entrega = total_e/total_pt\n",
    "print(\"Probabilidade de ser de 'entrega': \", p_entrega)\n",
    "\n",
    "p_discordou = total_d/total_pt\n",
    "print(\"Probabilidade de ser de 'discordou': \", p_discordou)\n",
    "\n",
    "p_fraco = total_f/total_pt\n",
    "print(\"Probabilidade de ser de 'fraco': \", p_fraco)"
   ]
  },
  {
   "cell_type": "markdown",
   "metadata": {},
   "source": [
    "É de se perceber, porém, que a soma dessas probabilidades não iguala-se a 100%...\n",
    "\n",
    "**Como era esperado!**\n",
    "A nossa base de dados considera uma série de intersecções que estão sendo somadas mais de um vez e cada uma das probabilidades totais. Isso não é errado, já que desejamos chegar em classificações duplas ou até triplas por meio de mais de um classificador.\n",
    "\n",
    "Assim, faremos três classificadores que devem indicar se há mais probabilidade de, dada uma mensagem, ela ser ou não de determinado tipo. Ou seja, serão comparadas as probabilidades de:\n",
    "\n",
    "$P(nCategoria|Frase)$ e $P(Categoria|Frase)$\n",
    "\n",
    "Assim, vamos criar os DataFrames com todas as não categorias, fazendo os mesmos procedimentos que para a criação dos dataframes criados até agora."
   ]
  },
  {
   "cell_type": "markdown",
   "metadata": {},
   "source": [
    "#### <u>Criando as frequências relativas para as *não categorias*</u>"
   ]
  },
  {
   "cell_type": "markdown",
   "metadata": {},
   "source": [
    "##### Não Discordou"
   ]
  },
  {
   "cell_type": "code",
   "execution_count": 17,
   "metadata": {},
   "outputs": [
    {
     "data": {
      "text/html": [
       "<div>\n",
       "<style scoped>\n",
       "    .dataframe tbody tr th:only-of-type {\n",
       "        vertical-align: middle;\n",
       "    }\n",
       "\n",
       "    .dataframe tbody tr th {\n",
       "        vertical-align: top;\n",
       "    }\n",
       "\n",
       "    .dataframe thead th {\n",
       "        text-align: right;\n",
       "    }\n",
       "</style>\n",
       "<table border=\"1\" class=\"dataframe\">\n",
       "  <thead>\n",
       "    <tr style=\"text-align: right;\">\n",
       "      <th></th>\n",
       "      <th>Mensagem</th>\n",
       "      <th>Target</th>\n",
       "    </tr>\n",
       "  </thead>\n",
       "  <tbody>\n",
       "    <tr>\n",
       "      <th>293</th>\n",
       "      <td>O livro Veio mal lavrado e com as pontas dos l...</td>\n",
       "      <td>Entrega</td>\n",
       "    </tr>\n",
       "    <tr>\n",
       "      <th>294</th>\n",
       "      <td>pelo menos desde 2013 reclamam do abusivo preç...</td>\n",
       "      <td>Entrega</td>\n",
       "    </tr>\n",
       "    <tr>\n",
       "      <th>295</th>\n",
       "      <td>Acho um absurdo o preço que a Amazon coloca em...</td>\n",
       "      <td>Entrega</td>\n",
       "    </tr>\n",
       "    <tr>\n",
       "      <th>296</th>\n",
       "      <td>Jorge Candeiras é o tradutor da versão portugu...</td>\n",
       "      <td>Entrega</td>\n",
       "    </tr>\n",
       "    <tr>\n",
       "      <th>297</th>\n",
       "      <td>A tradução é mal feita...o tradutor parece não...</td>\n",
       "      <td>Entrega</td>\n",
       "    </tr>\n",
       "  </tbody>\n",
       "</table>\n",
       "</div>"
      ],
      "text/plain": [
       "                                              Mensagem   Target\n",
       "293  O livro Veio mal lavrado e com as pontas dos l...  Entrega\n",
       "294  pelo menos desde 2013 reclamam do abusivo preç...  Entrega\n",
       "295  Acho um absurdo o preço que a Amazon coloca em...  Entrega\n",
       "296  Jorge Candeiras é o tradutor da versão portugu...  Entrega\n",
       "297  A tradução é mal feita...o tradutor parece não...  Entrega"
      ]
     },
     "execution_count": 17,
     "metadata": {},
     "output_type": "execute_result"
    }
   ],
   "source": [
    "# Criando o DataFrame Não discordou Discordou\n",
    "filtro_nao_discordou =  ((train['Target'] != 'Discordou') & (train['Target'] != 'Fraco e Discordou') & (train['Target'] != 'Entrega e Discordou') & (train['Target'] != 'Todos'))\n",
    "nao_discordou = train.loc[filtro_nao_discordou, : ]\n",
    "\n",
    "# Checando se funcionou\n",
    "nao_discordou.tail()"
   ]
  },
  {
   "cell_type": "code",
   "execution_count": 18,
   "metadata": {},
   "outputs": [
    {
     "data": {
      "text/plain": [
       "o      0.036192\n",
       "a      0.033593\n",
       "de     0.030995\n",
       "que    0.030345\n",
       "e      0.030252\n",
       "dtype: float64"
      ]
     },
     "execution_count": 18,
     "metadata": {},
     "output_type": "execute_result"
    }
   ],
   "source": [
    "# Criando uma tabela de frequências relativas para a categoria NÃO DISCORDOU\n",
    "nao_discordou_bruto = list(nao_discordou[\"Mensagem\"])\n",
    "nao_discordou_lista = []\n",
    "\n",
    "for mensagem in nao_discordou_bruto:\n",
    "    mensagem = cleanup(mensagem.lower())\n",
    "    mensagem = mensagem.split()\n",
    "\n",
    "    for palavra in mensagem:\n",
    "        nao_discordou_lista.append(palavra)\n",
    "\n",
    "# Tranformando a lista em uma série\n",
    "serie_nao_discordou = pd.Series(nao_discordou_lista)\n",
    "\n",
    "# Transformando a série em uma tabela com as frequências relativas de cada palavra\n",
    "tabela_nao_discordou_relativa = serie_nao_discordou.value_counts(True)\n",
    "\n",
    "# Testando para ver como está a nossa tabela\n",
    "tabela_nao_discordou_relativa.head()"
   ]
  },
  {
   "cell_type": "markdown",
   "metadata": {},
   "source": [
    "##### Não Fraco"
   ]
  },
  {
   "cell_type": "code",
   "execution_count": 19,
   "metadata": {},
   "outputs": [
    {
     "data": {
      "text/html": [
       "<div>\n",
       "<style scoped>\n",
       "    .dataframe tbody tr th:only-of-type {\n",
       "        vertical-align: middle;\n",
       "    }\n",
       "\n",
       "    .dataframe tbody tr th {\n",
       "        vertical-align: top;\n",
       "    }\n",
       "\n",
       "    .dataframe thead th {\n",
       "        text-align: right;\n",
       "    }\n",
       "</style>\n",
       "<table border=\"1\" class=\"dataframe\">\n",
       "  <thead>\n",
       "    <tr style=\"text-align: right;\">\n",
       "      <th></th>\n",
       "      <th>Mensagem</th>\n",
       "      <th>Target</th>\n",
       "    </tr>\n",
       "  </thead>\n",
       "  <tbody>\n",
       "    <tr>\n",
       "      <th>294</th>\n",
       "      <td>pelo menos desde 2013 reclamam do abusivo preç...</td>\n",
       "      <td>Entrega</td>\n",
       "    </tr>\n",
       "    <tr>\n",
       "      <th>295</th>\n",
       "      <td>Acho um absurdo o preço que a Amazon coloca em...</td>\n",
       "      <td>Entrega</td>\n",
       "    </tr>\n",
       "    <tr>\n",
       "      <th>296</th>\n",
       "      <td>Jorge Candeiras é o tradutor da versão portugu...</td>\n",
       "      <td>Entrega</td>\n",
       "    </tr>\n",
       "    <tr>\n",
       "      <th>297</th>\n",
       "      <td>A tradução é mal feita...o tradutor parece não...</td>\n",
       "      <td>Entrega</td>\n",
       "    </tr>\n",
       "    <tr>\n",
       "      <th>299</th>\n",
       "      <td>Uma pena a editora ter se prestado a esse dess...</td>\n",
       "      <td>Entrega e Discordou</td>\n",
       "    </tr>\n",
       "  </tbody>\n",
       "</table>\n",
       "</div>"
      ],
      "text/plain": [
       "                                              Mensagem               Target\n",
       "294  pelo menos desde 2013 reclamam do abusivo preç...              Entrega\n",
       "295  Acho um absurdo o preço que a Amazon coloca em...              Entrega\n",
       "296  Jorge Candeiras é o tradutor da versão portugu...              Entrega\n",
       "297  A tradução é mal feita...o tradutor parece não...              Entrega\n",
       "299  Uma pena a editora ter se prestado a esse dess...  Entrega e Discordou"
      ]
     },
     "execution_count": 19,
     "metadata": {},
     "output_type": "execute_result"
    }
   ],
   "source": [
    "# Criando o DataFrame Não Fraco\n",
    "filtro_nao_fraco =  ((train['Target'] != 'Fraco') & (train['Target'] != 'Fraco e Discordou') & (train['Target'] != 'Entrega e Fraco') & (train['Target'] != 'Todos'))\n",
    "nao_fraco = train.loc[filtro_nao_fraco, : ]\n",
    "\n",
    "# Checando se funcionou\n",
    "nao_fraco.tail()"
   ]
  },
  {
   "cell_type": "code",
   "execution_count": 20,
   "metadata": {},
   "outputs": [
    {
     "data": {
      "text/plain": [
       "a      0.035495\n",
       "o      0.033960\n",
       "de     0.033672\n",
       "que    0.033672\n",
       "e      0.030507\n",
       "dtype: float64"
      ]
     },
     "execution_count": 20,
     "metadata": {},
     "output_type": "execute_result"
    }
   ],
   "source": [
    "# Criando uma tabela de frequências relativas para a categoria NÃO DISCORDOU\n",
    "nao_fraco_bruto = list(nao_fraco[\"Mensagem\"])\n",
    "nao_fraco_lista = []\n",
    "\n",
    "for mensagem in nao_fraco_bruto:\n",
    "    mensagem = cleanup(mensagem.lower())\n",
    "    mensagem = mensagem.split()\n",
    "\n",
    "    for palavra in mensagem:\n",
    "        nao_fraco_lista.append(palavra)\n",
    "\n",
    "# Tranformando a lista em uma série\n",
    "serie_nao_fraco = pd.Series(nao_fraco_lista)\n",
    "\n",
    "# Transformando a série em uma tabela com as frequências relativas de cada palavra\n",
    "tabela_nao_fraco_relativa = serie_nao_fraco.value_counts(True)\n",
    "\n",
    "# Testando para ver como está a nossa tabela\n",
    "tabela_nao_fraco_relativa.head()"
   ]
  },
  {
   "cell_type": "markdown",
   "metadata": {},
   "source": [
    "##### Não Entrega"
   ]
  },
  {
   "cell_type": "code",
   "execution_count": 21,
   "metadata": {},
   "outputs": [
    {
     "data": {
      "text/html": [
       "<div>\n",
       "<style scoped>\n",
       "    .dataframe tbody tr th:only-of-type {\n",
       "        vertical-align: middle;\n",
       "    }\n",
       "\n",
       "    .dataframe tbody tr th {\n",
       "        vertical-align: top;\n",
       "    }\n",
       "\n",
       "    .dataframe thead th {\n",
       "        text-align: right;\n",
       "    }\n",
       "</style>\n",
       "<table border=\"1\" class=\"dataframe\">\n",
       "  <thead>\n",
       "    <tr style=\"text-align: right;\">\n",
       "      <th></th>\n",
       "      <th>Mensagem</th>\n",
       "      <th>Target</th>\n",
       "    </tr>\n",
       "  </thead>\n",
       "  <tbody>\n",
       "    <tr>\n",
       "      <th>181</th>\n",
       "      <td>minha avalicao sobre o livro e a seguinte: e b...</td>\n",
       "      <td>Discordou</td>\n",
       "    </tr>\n",
       "    <tr>\n",
       "      <th>182</th>\n",
       "      <td>O autor trabalha com o pressuposto do surgimen...</td>\n",
       "      <td>Discordou</td>\n",
       "    </tr>\n",
       "    <tr>\n",
       "      <th>183</th>\n",
       "      <td>Esperava um livro com técnicas, mas não há nad...</td>\n",
       "      <td>Discordou</td>\n",
       "    </tr>\n",
       "    <tr>\n",
       "      <th>184</th>\n",
       "      <td>Escolhi o livro por acreditar no tema e indica...</td>\n",
       "      <td>Discordou</td>\n",
       "    </tr>\n",
       "    <tr>\n",
       "      <th>185</th>\n",
       "      <td>A percepção do autor sobre investimento é tota...</td>\n",
       "      <td>Discordou</td>\n",
       "    </tr>\n",
       "  </tbody>\n",
       "</table>\n",
       "</div>"
      ],
      "text/plain": [
       "                                              Mensagem     Target\n",
       "181  minha avalicao sobre o livro e a seguinte: e b...  Discordou\n",
       "182  O autor trabalha com o pressuposto do surgimen...  Discordou\n",
       "183  Esperava um livro com técnicas, mas não há nad...  Discordou\n",
       "184  Escolhi o livro por acreditar no tema e indica...  Discordou\n",
       "185  A percepção do autor sobre investimento é tota...  Discordou"
      ]
     },
     "execution_count": 21,
     "metadata": {},
     "output_type": "execute_result"
    }
   ],
   "source": [
    "# Criando o DataFrame Não Discordou\n",
    "filtro_nao_entregou =  ((train['Target'] != 'Entrega') & (train['Target'] != 'Entrega e Discordou') & (train['Target'] != 'Entrega e Fraco') & (train['Target'] != 'Todos'))\n",
    "nao_entregou = train.loc[filtro_nao_entregou, : ]\n",
    "\n",
    "# Checando se funcionou\n",
    "nao_entregou.tail()"
   ]
  },
  {
   "cell_type": "code",
   "execution_count": 22,
   "metadata": {},
   "outputs": [
    {
     "data": {
      "text/plain": [
       "de     0.037092\n",
       "o      0.033255\n",
       "que    0.031484\n",
       "e      0.030205\n",
       "a      0.027450\n",
       "dtype: float64"
      ]
     },
     "execution_count": 22,
     "metadata": {},
     "output_type": "execute_result"
    }
   ],
   "source": [
    "# Criando uma tabela de frequências relativas para a categoria NÃO DISCORDOU\n",
    "nao_entregou_bruto = list(nao_entregou[\"Mensagem\"])\n",
    "nao_entregou_lista = []\n",
    "\n",
    "for mensagem in nao_entregou_bruto:\n",
    "    mensagem = cleanup(mensagem.lower())\n",
    "    mensagem = mensagem.split()\n",
    "\n",
    "    for palavra in mensagem:\n",
    "        nao_entregou_lista.append(palavra)\n",
    "\n",
    "# Tranformando a lista em uma série\n",
    "serie_nao_entregou = pd.Series(nao_entregou_lista)\n",
    "\n",
    "# Transformando a série em uma tabela com as frequências relativas de cada palavra\n",
    "tabela_nao_entregou_relativa = serie_nao_entregou.value_counts(True)\n",
    "\n",
    "# Testando para ver como está a nossa tabela\n",
    "tabela_nao_entregou_relativa.head()"
   ]
  },
  {
   "cell_type": "markdown",
   "metadata": {},
   "source": [
    "##### Probabilidades das não categorias"
   ]
  },
  {
   "cell_type": "code",
   "execution_count": 23,
   "metadata": {},
   "outputs": [
    {
     "name": "stdout",
     "output_type": "stream",
     "text": [
      "ENTREGA\n",
      "Probabilidade de ser da categoria 'Entrega':  0.3943510904540579\n",
      "Probabilidade de ser da categoria 'Não Entrega':  0.6056489095459421\n",
      "Soma = 1.0\n",
      "--------------------------------------------------------------------------\n",
      "DISCORDOU\n",
      "Probabilidade de ser da categoria 'Discordou':  0.35788344654987486\n",
      "Probabilidade de ser da categoria 'Não Discordou':  0.6421165534501251\n",
      "Soma = 1.0\n",
      "--------------------------------------------------------------------------\n",
      "FRACO\n",
      "Probabilidade de ser da categoria 'Fraco':  0.37885830056012393\n",
      "Probabilidade de ser da categoria 'Não Fraco':  0.6211416994398761\n",
      "Soma = 1.0\n"
     ]
    }
   ],
   "source": [
    "# Total de elementos\n",
    "total_ne = len(nao_entregou_lista)\n",
    "total_nf = len(nao_fraco_lista)\n",
    "total_nd = len(nao_discordou_lista)\n",
    "\n",
    "# Probabilidades das não categorias\n",
    "p_nao_entregou = total_ne/total_pt\n",
    "p_nao_fraco = total_nf/total_pt\n",
    "p_nao_discordou = total_nd/total_pt\n",
    "\n",
    "# Conferindo se as probabilidades parecem corretas\n",
    "print(\"ENTREGA\")\n",
    "print(\"Probabilidade de ser da categoria 'Entrega': \", p_entrega)\n",
    "print(\"Probabilidade de ser da categoria 'Não Entrega': \", p_nao_entregou)\n",
    "print(\"Soma = {0}\".format(p_entrega + p_nao_entregou))\n",
    "print('--------------------------------------------------------------------------')\n",
    "print(\"DISCORDOU\")\n",
    "print(\"Probabilidade de ser da categoria 'Discordou': \", p_discordou)\n",
    "print(\"Probabilidade de ser da categoria 'Não Discordou': \", p_nao_discordou)\n",
    "print(\"Soma = {0}\".format(p_discordou + p_nao_discordou))\n",
    "print('--------------------------------------------------------------------------')\n",
    "print(\"FRACO\")\n",
    "print(\"Probabilidade de ser da categoria 'Fraco': \", p_fraco)\n",
    "print(\"Probabilidade de ser da categoria 'Não Fraco': \", p_nao_fraco)\n",
    "print(\"Soma = {0}\".format(p_fraco + p_nao_fraco))"
   ]
  },
  {
   "cell_type": "code",
   "execution_count": 24,
   "metadata": {},
   "outputs": [
    {
     "name": "stdout",
     "output_type": "stream",
     "text": [
      "Não Entrega:  1.0\n",
      "Não Fraco:  1.0000000000000002\n",
      "Não Discordou:  1.0\n"
     ]
    }
   ],
   "source": [
    "# Último teste: conferindo se a soma das procentagens das tabelas dão 100%\n",
    "print(\"Não Entrega: \", tabela_nao_entregou_relativa.sum())\n",
    "print(\"Não Fraco: \", tabela_nao_fraco_relativa.sum())\n",
    "print(\"Não Discordou: \", tabela_nao_discordou_relativa.sum())"
   ]
  },
  {
   "cell_type": "markdown",
   "metadata": {},
   "source": [
    "Parece bom o suficiente! Podemos, então partir pra próxima etapa do classificador."
   ]
  },
  {
   "cell_type": "markdown",
   "metadata": {},
   "source": [
    "#### <u>Suavizador de *Laplace*</u>"
   ]
  },
  {
   "cell_type": "markdown",
   "metadata": {},
   "source": [
    "Para passarmos a fazer o classificador, precisamos definir, primeiro, as variáveis de laplace, que pretendem corrigir um tipo específico de erro que o classificador do Naive-Bayes está sujeito: **a possibilidade de uma palavra não estar no banco de dados**.\n",
    "\n",
    "Como dissemos no início, o classificador é ingênuo ao assumir que todo o português está contido em sua database e que as palavras não dependem entre si em uma frase. Assim, se uma palavra tiver 0% de chance de aparecer em uma das databases, não necessariamente é desejado que ela não seja classificada daquela forma, já que **essa limitação pode ser dada pela ingenuidade do programa**.\n",
    "\n",
    "Assim, para corrigir essas probabilidades zeradas, mas não enviesar o classificador e nem \"atrapalhar a suas medições\", pode-se utilizar da suavização de laplace, que é dada pela fórmula abaixo:\n",
    "\n",
    "$P'(Categoria|frase) = \\frac{n_p + \\alpha}{N + \\alpha \\cdot k}$\n",
    "\n",
    "Com:\n",
    "- $n_p$ : número de hipóteses existentes (no nosso caso: contagem de cada palavra)\n",
    "    - Quantidade de hipóteses dentro da categoria que geram probabilidades positivas\n",
    "- $k$ : número de elementos na categoria da base de dados\n",
    "    - Dimensões da categoria\n",
    "- $\\alpha$ : coeficiente de suavização\n",
    "    - No nosso caso: $\\alpha = 1$\n",
    "- $N$ : número de elementos totais no \"português\"\n",
    "    - Quantidade de hipóteses totais que geram probabilidades positivas"
   ]
  },
  {
   "cell_type": "markdown",
   "metadata": {},
   "source": [
    "#### <u>*Logaritmos*</ul>"
   ]
  },
  {
   "cell_type": "markdown",
   "metadata": {},
   "source": [
    "Além disso, teremos que lidar com uma limitação do nosso projeto: **a aproximação do computador**. Assim, tendo a ingenuidade do classificador, fica claro que as probabilidades de cada uma das palavras é minúscula, sendo tão tão pequena que é arredondada pelo computador para 0.\n",
    "\n",
    "Para solucionar isso, dipusémos da ferramenta matemática do logarítimo, que pode ser utilizado justamente para casos assim: transformar dimensões imensamente grandes em menores entre si. Como o classificador tem fins comparativos, fica claro que a ferramenta matemática não atrapalhará os resultados, pois, assim como a suavização de *laplace* é utilizada igualmente em todos os valores e o projeto tem fins de produzir resultados qualitativos (uma classificação de fato) e não numéricos (não desejamos mostrar ao usuário a probabilidade que cada frase tem de ser classificada de determinada forma).\n",
    "\n",
    "Assim, cabe, ao fim, lembrar o formato dos logaritmos:"
   ]
  },
  {
   "cell_type": "markdown",
   "metadata": {},
   "source": [
    "log<sub>10</sub><sup>x</sup>$ = b$\n",
    "\n",
    "*ou:*\n",
    "\n",
    "$10^b = x$"
   ]
  },
  {
   "cell_type": "markdown",
   "metadata": {},
   "source": [
    "#### <u>Classificador *Naive-Bayes*</ul>"
   ]
  },
  {
   "cell_type": "code",
   "execution_count": 25,
   "metadata": {},
   "outputs": [],
   "source": [
    "# Importando os logaritmos de base 10 da biblioteca math\n",
    "from math import log10\n",
    "\n",
    "# Criando função que conta a quantidade de aparições da palavra em cada categoria\n",
    "def contagem(palavra):\n",
    "    # Conta aparições em \"entrega\"\n",
    "    entrega = 0 \n",
    "    for i in entrega_lista:\n",
    "        if i== palavra:\n",
    "            entrega+=1\n",
    "    # Conta aparições em \"não entrega\"\n",
    "    n_entrega = 0 \n",
    "    for i in nao_entregou_lista:\n",
    "        if i== palavra:\n",
    "            n_entrega+=1\n",
    "\n",
    "    # Conta aparições em \"fraco\"\n",
    "    fraco = 0\n",
    "    for i in fraco_lista:\n",
    "        if i == palavra:\n",
    "            fraco+=1\n",
    "    # Conta aparições em \"não fraco\"\n",
    "    n_fraco = 0 \n",
    "    for i in nao_fraco_lista:\n",
    "        if i== palavra:\n",
    "            n_fraco+=1\n",
    "\n",
    "    # Conta aparições em \"discordou\"\n",
    "    discordou = 0\n",
    "    for i in discordou_lista:\n",
    "        if i==palavra:\n",
    "            discordou+=1\n",
    "    # Conta aparições em \"não discordou\"\n",
    "    n_discordou = 0 \n",
    "    for i in nao_discordou_lista:\n",
    "        if i== palavra:\n",
    "            n_discordou+=1\n",
    "    \n",
    "    return [entrega,n_entrega,fraco,n_fraco,discordou,n_discordou]\n",
    "\n",
    "\n",
    "# Criando função classificadora\n",
    "def classificador(frase):\n",
    "    # Arrumando a frase\n",
    "    frase = cleanup(frase.lower())\n",
    "    frase = frase.split()\n",
    "\n",
    "    # Probabilidade Inicial:\n",
    "    p_eh_entrega = 1\n",
    "    p_n_entrega = 1\n",
    "\n",
    "    p_eh_fraco = 1\n",
    "    p_n_fraco = 1\n",
    "\n",
    "    p_eh_discordou = 1\n",
    "    p_n_discordou = 1\n",
    "\n",
    "    # Criando loop para cada palavra\n",
    "    for palavra in frase:\n",
    "        # Se a palavra não estiver na base de dados português\n",
    "        if palavra not in portugues:\n",
    "            \n",
    "            p_eh_entrega *= log10(1 / (total_e + total_pt))\n",
    "            p_n_entrega *= log10(1 / (total_ne + total_pt))\n",
    "\n",
    "            p_eh_fraco *= log10(1 / (total_f + total_pt))\n",
    "            p_n_fraco *= log10(1 / (total_nf + total_pt))\n",
    "\n",
    "            p_eh_discordou *= log10(1 / (total_d + total_pt))\n",
    "            p_n_discordou *= log10(1 / (total_nd + total_pt))\n",
    "        \n",
    "        # Se ela estiver\n",
    "        else:\n",
    "            contagens = contagem(palavra)\n",
    "            p_eh_entrega *= log10((contagens[0] + 1)/(total_e + total_pt))\n",
    "            p_n_entrega *= log10((contagens[1] + 1)/(total_ne + total_pt))\n",
    "\n",
    "            p_eh_fraco *= log10((contagens[2] + 1)/(total_f + total_pt))\n",
    "            p_n_fraco *= log10((contagens[3] + 1)/(total_nf + total_pt))\n",
    "\n",
    "            p_eh_discordou *= log10((contagens[4] + 1)/(total_d + total_pt))\n",
    "            p_n_discordou *= log10((contagens[5] + 1)/(total_nd + total_pt))\n",
    "\n",
    "    # Probabilidades\n",
    "    p_entrega = p_eh_entrega - p_n_entrega\n",
    "    p_fraco = p_eh_fraco - p_n_fraco\n",
    "    p_discorda = p_eh_discordou - p_n_discordou\n",
    "\n",
    "    lista_probs = [p_entrega, p_fraco, p_discorda]\n",
    "\n",
    "    # Definindo a categoria da palavra\n",
    "    # categoria 1 = entrega, categoria 3 = fraco, categoria 5 = discordou\n",
    "    cat = 0\n",
    "    if p_entrega >= max(lista_probs)/10:\n",
    "        cat += 1\n",
    "    if p_fraco >= max(lista_probs)/10:\n",
    "        cat += 3\n",
    "    if p_discordou >= max(lista_probs)/10:\n",
    "        cat +=5\n",
    "\n",
    "    # Retornando a sua classe com base nisso\n",
    "    if cat == 1 :\n",
    "        return 'Entrega'\n",
    "    if cat == 3:\n",
    "        return 'Fraco'\n",
    "    if cat == 5:\n",
    "        return 'Discordou'\n",
    "    if cat == 4:\n",
    "        return 'Entrega e Fraco'\n",
    "    if cat == 6:\n",
    "        return 'Entrega e Discordou'\n",
    "    if cat == 8:\n",
    "        return 'Fraco e Discordou'\n",
    "    if cat == 9:\n",
    "        return 'Todos'\n",
    "    if cat == 0:\n",
    "        return 'Outros'\n",
    "    "
   ]
  },
  {
   "cell_type": "markdown",
   "metadata": {},
   "source": [
    "___\n",
    "### Verificando a performance do Classificador\n",
    "\n",
    "Agora você deve testar o seu classificador com a base de Testes."
   ]
  },
  {
   "cell_type": "code",
   "execution_count": 29,
   "metadata": {},
   "outputs": [
    {
     "name": "stdout",
     "output_type": "stream",
     "text": [
      "[5.995866804880643e+33, 2.788869377182068e+33, 1.037477887444618e+34]\n",
      "[1.7476163091399074e+25, 7.95597766997889e+24, 1.8796757938093687e+25]\n",
      "[173747218786128.7, 66762877384641.766, 118470398243304.97]\n",
      "[-423439537886.917, -1947851655235.5444, -4002023095495.3647]\n",
      "[19462911643408.53, 6831327495383.481, 11545347837380.738]\n",
      "[28752000233.32855, 28091139413.297527, 7782744123.410717]\n",
      "[-3190195901432.535, -1611291246478.901, -1945014339402.3748]\n",
      "[-6.587911036916425e+18, -6.274783122014411e+18, -1.177639194167634e+17]\n",
      "[-4.057497045653704e+25, -4.643601572182741e+25, -1.0352210888492236e+26]\n",
      "[-8.682876006275826e+22, -9.152367323055896e+22, -6.861564022294875e+22]\n",
      "[-6.811710552928011e+67, -8.965031072942011e+67, 9.557571508622068e+65]\n",
      "[-2.004023651431728e+18, -6.315338430193036e+17, -4.7116773399045203e+17]\n",
      "[-77310454844.19458, -123565394828.13959, -251260617672.08237]\n",
      "[-5.49641565500582e+119, -5.283464233632593e+119, -1.535048590451578e+119]\n",
      "[1.8533524762894742e+21, 1.116972555277254e+21, -1.1938095286912287e+20]\n",
      "[-5654875514495936.0, -4616579300497150.0, -6673593265585972.0]\n",
      "[-5.366927725607636e+86, -2.7279765089687615e+86, -1.1636850543179573e+86]\n",
      "[7.179655511782076e+26, 1.0680624453835563e+27, 8.896435742046342e+26]\n",
      "[9.945761716967804e+79, 1.2343037160610066e+80, 7.506324872260744e+79]\n",
      "[-471763082.0272989, -1221253937.4566746, -2218498968.1917553]\n",
      "[3.0691482320007912e+28, 1.1667449953441332e+28, -2.5144466315234894e+27]\n",
      "[-152626279651345.3, -39454861243206.266, -73753275899449.6]\n",
      "[6.341792223644144e+86, 1.7429324832900073e+86, 6.782499165657891e+85]\n",
      "[-187882765.48639703, -63656981.80201417, -52012158.01164004]\n",
      "[-162183.83881547063, -17245.49338328431, -310099.18410104024]\n",
      "[1.0517499977222703e+38, 5.831290191020412e+37, 6.448404338508458e+37]\n",
      "[-1.7332500711037857e+37, -7.02839937663341e+36, -1.018220720244695e+36]\n",
      "[-184262498635029.84, -128665572703355.19, 53688274143555.72]\n",
      "[-87177839975.59355, -3580399622.4793777, -18893252600.610558]\n",
      "[3.232984126292847e+19, 2.480260189109035e+19, -4.3929135376951583e+18]\n",
      "[-1.2897787390497222e+29, -4.816734646705105e+28, -5.687849764961945e+27]\n",
      "[4133479796.8401356, 888095637.8735423, 1534052090.6328158]\n",
      "[1790657883400684.8, 877679781404743.2, -98583860665396.88]\n",
      "[-1.2517908131924051e+48, -1.2004999988221217e+47, -3.149803121039802e+47]\n",
      "[3146538503036653.5, 1423117919804418.2, 889895803663214.0]\n",
      "[7.011019933388309e+58, 2.1707850731049303e+58, 3.5625191685505636e+57]\n",
      "[3.910790125747234e+27, 9.925604450136295e+26, 3.420738387291344e+27]\n",
      "[3.232984126292847e+19, 2.480260189109035e+19, -4.3929135376951583e+18]\n",
      "[152719100267.40698, -2920788364.945648, 97330999719.78967]\n",
      "[-2178881062839.1123, -1332566791705.2007, -1665487433703.8481]\n",
      "[-8.030099825334568e+67, -1.0812319827426217e+67, -2.704573869852282e+67]\n",
      "[8.620762596408503e+24, 4.025988746345328e+24, 2.7594715811353295e+25]\n",
      "[-28626615100.143204, -10558931860.062012, -25468926180.68275]\n",
      "[-1.3919428866984505e+41, 6.036520322321497e+41, 2.7751654249241233e+42]\n",
      "[-132201634100428.55, 473256039989328.75, 497629156255460.94]\n",
      "[-31278968415.587364, 112646155813.2919, 171721440408.74936]\n",
      "[-1548447028.2433014, -50243909369.120804, -81958510274.6411]\n",
      "[-851157243993.9846, 1004241974651.0386, 1336698846457.5137]\n",
      "[1604322119.8797216, 1282179237.1687055, 2475455700.247671]\n",
      "[3.2475616806844793e+19, 6.946232386184658e+20, 1.1859190463978568e+21]\n",
      "[8.133450958438426e+69, -4.527483126594863e+71, -1.305803362598159e+72]\n",
      "[1.5060949756158797e+17, -9.742711259456054e+17, -2.300656282160338e+18]\n",
      "[5.562059399343507e+22, 4.02209275530985e+23, 1.1394071463629717e+24]\n",
      "[-8.517937449196105e+20, 4.8146884715388e+21, 8.663977811441275e+21]\n",
      "[-4.6087200248217435e+27, -8.982953261647342e+28, -1.4711510584910453e+29]\n",
      "[21141.124675674608, -32893.21547013788, -34157.03512112862]\n",
      "[-2742995510.5828915, -6976286778.470961, -13157329622.736376]\n",
      "[1.3229082114287312e+23, -1.487358708755885e+24, -1.3801983454199807e+24]\n",
      "[-3.828381356539711e+19, 5.928625648251597e+20, 8.113487887398894e+20]\n",
      "[-6.009094171867463e+37, 6.252101640071969e+38, 3.521310945429891e+39]\n",
      "[4637237675.14967, 9001445170.23658, 14013882969.024534]\n",
      "[4.2998703063142774e+165, -1.6289036821123485e+169, -1.9848885212628975e+170]\n",
      "[-2141505041915463.0, -1.6563110033523506e+16, -2.3976955518547864e+16]\n",
      "[-37666038929.51041, -39615934567.483185, -75452466287.21043]\n",
      "[-4.115197017105497e+25, 1.6766864681131923e+26, 3.5314882480446516e+26]\n",
      "[2152.4896605081103, -3145.910484742006, -4132.20486492436]\n",
      "[-1.2941668524591415e+19, 8.646397194205638e+20, 1.0590284550420245e+21]\n",
      "[-396950306169913.5, -1351291162991935.2, -1564968284117984.5]\n",
      "[-3.939409892240143e+36, 6.096941164482928e+37, 6.842809896963553e+37]\n",
      "[-7.065933150811873e+18, 2.0474293317892084e+19, 4.163967746941391e+19]\n",
      "[-1.3861696839634e+24, 7.182650068747255e+24, 1.0078940467194326e+25]\n",
      "[-80969508942861.75, -271155713754460.6, -643826465226692.8]\n",
      "[-1.1581636709564374e+16, 5.938470292601341e+16, 7.696093445829658e+16]\n",
      "[-208288384139545.75, -2255703441991800.0, -3418858160907862.5]\n",
      "[-182692946570.15356, -816830653228.2751, -1949623263238.3188]\n",
      "[510277809111.5476, -4045463821861.6426, -5573457426275.63]\n",
      "[-142782068441.4557, -1563551591933.8564, -1897397044528.3213]\n",
      "[-36608301911383.125, 190302903914905.8, 229867148205401.2]\n",
      "[8.330407037487747e+38, -2.0024899664099444e+40, -4.925240258279545e+40]\n",
      "[208569344126.8733, -500909194673.3219, -728804935339.6158]\n",
      "[-86105347203.63225, 247227719150.93414, 333063692179.93964]\n",
      "[-4.274266937429033e+55, 1.408906024986428e+57, 5.905965889866528e+57]\n",
      "[-22361612223661.13, 61905719337442.46, 105233515087223.25]\n",
      "[-8.52721218221074e+20, 3.8232679640835823e+21, 5.411074454788843e+21]\n",
      "[-14665368048.258884, 24192855494.661644, 30023079582.03142]\n",
      "[310202096.2251587, 15578011036.268679, 35120143410.26416]\n",
      "[7738445192061543.0, -2.2558558786312504e+16, -4.320300947753619e+16]\n",
      "[1.4555961199735345e+23, 7.035960909160587e+23, 9.171415433328095e+23]\n",
      "[-96152364049.54388, 674913784050.8579, 1384387583013.61]\n",
      "[-6.024222008325333e+19, 2.76104717363227e+20, 4.634249703235083e+20]\n",
      "[5.66571938599757e+24, -1.0749936058846912e+25, -2.843763424251897e+25]\n",
      "[-114395534659.33777, 607885017941.1451, 712521837495.0869]\n",
      "[-55825231027.92041, 5243718399712.934, 5224227600750.898]\n",
      "[-1887001828760.281, 7079153487581.755, 8984074992391.9]\n",
      "[-332658348673952.5, -2346801492540753.0, -6848275485094938.0]\n",
      "[9.810959383220265e+17, -9.332937999734456e+18, -9.529941692196182e+18]\n",
      "[-3.4303361076016635e+92, 4.049904574414706e+96, 4.948758101838099e+97]\n",
      "[-134550885671.12842, -848002114837.917, -2194860380083.3428]\n",
      "[-4465081658.725559, 14024845060.93507, 19115666998.903137]\n",
      "[-63274931848.78003, 883023358753.4673, 1913604823560.825]\n",
      "[-168941890500953.12, 799890258975274.9, 1298226632189866.5]\n",
      "[-4011350475635.227, 9080547734835.291, 6117474842183.359]\n",
      "[-1.7284227644883893e+126, -6.202711878698967e+128, -8.435101333910172e+129]\n",
      "[-4134328904.563507, -15529985042.143112, -24238280227.911995]\n",
      "[2.322888554463779e+40, -4.595944511373295e+41, -3.675138863401975e+41]\n",
      "[889785172113927.8, 418705632886790.1, 1084247008851843.0]\n",
      "[5.88436110208847e+29, 2.823336415209962e+29, 2.732152486255464e+29]\n",
      "[2654.0479317510153, -2104.261412438548, 5642.905612885041]\n",
      "[-28932216153970.324, -11240833286006.242, -21841126142465.883]\n",
      "[-504986138358.01196, -73147847608.40143, 976173044.9794922]\n",
      "[1.8741344300825754e+18, 5.590468305053802e+17, 1.0142389950030111e+18]\n",
      "[14458505093.833607, 11813366986.476679, 18442596216.148117]\n",
      "[-3.7626163707406285e+24, -3.3342501301431786e+23, -2.0718223894024983e+24]\n",
      "[-67521675168819.75, -33730809382433.742, -64095884542974.16]\n",
      "[-140504332600.21094, -29712697581.01686, -202429459992.02063]\n",
      "[831422366550.9211, -115451912661.15356, 565669245063.9681]\n",
      "[-3.1293159422126514e+67, -2.786991528048124e+66, -3.300052861903867e+67]\n",
      "[2.1846441848825754e+29, 1.2717742608808836e+29, 2.0840856240712367e+29]\n",
      "[-1.0068996764871786e+23, -1.8089009897436105e+22, -1.3931436427668196e+23]\n",
      "[-2.2693564374535357e+80, -4.0653998623182295e+79, -1.4730288950147562e+81]\n",
      "[-61913307186.719284, 6321031048.345757, -72692095834.62384]\n",
      "[4920459082.962032, 1266877552.5766368, 1733346099.960661]\n",
      "[-8.853327675259732e+17, -4.071430559615859e+16, -1.2310409692392658e+18]\n",
      "[3.153725442377499e+27, 1.4823279237507607e+27, 5.374258065116041e+27]\n",
      "[-1563667029921.955, -322524030645.4221, -224660035327.53174]\n",
      "[1.3467766280512157e+34, 4.0430312279616043e+33, 2.6879513774176383e+34]\n",
      "[1.0920685514541596e+27, 2.2077128959310906e+26, 1.3599774297926402e+27]\n",
      "[1.592147011922148e+21, 8.603618454820317e+20, 4.733984778434019e+21]\n",
      "[-1.2960492551066008e+119, -2.5007808684109798e+117, -1.3366109378256765e+118]\n",
      "[-53578244614109.84, -15519680789092.738, -28524061064873.914]\n",
      "[463959834788.7445, 69388572906.87958, -8814642054.521912]\n",
      "[1.5207050317297278e+28, 5.848526561249742e+27, 2.45379852746396e+28]\n",
      "[-2.0761334625380695e+18, -2.4688852639606185e+18, -5.209469999478815e+18]\n",
      "[-1.420817416797185e+18, -8.818398732797546e+16, -5.772688646338807e+17]\n",
      "[-2.314820501533789e+83, -1.6539472271643236e+83, -2.5510731567055845e+83]\n",
      "[-177096129892.1311, -27854481404.753586, -36523070448.883766]\n",
      "[6.851790599152433e+38, 1.0905334212440993e+39, 4.820504257415569e+39]\n",
      "[24418412457.621555, 11801236516.94711, 51924214879.08955]\n",
      "[-1601.7801679836753, 442.4065440676404, -1148.7140206650051]\n",
      "[9.519189132764817e+19, 2.4211749833766134e+19, 2.175948558961536e+19]\n",
      "[-175669593.12307423, -7907517.89070189, -227763756.2469576]\n",
      "[9.829504145239941e+29, 7.665693688073454e+29, 1.3268212310295455e+30]\n",
      "[-4.50095262231832e+29, -3.8376355962703482e+28, -1.1020093271165203e+29]\n",
      "[3.367000097016971e+17, 1.1019231523673594e+17, 9.926400304678173e+16]\n",
      "[-1.909784976402177e+21, -1.2818828510730524e+21, -4.2577311022469187e+21]\n",
      "[5341229514.88781, 11460916696.050535, 10567830221.740683]\n",
      "[130865070006607.9, 59218892688459.79, 103046991594217.94]\n",
      "[-2.277420838860791e+40, -1.2695821969983279e+39, -5.917615653760989e+40]\n",
      "[-3993601794643903.0, -503878691588992.1, -3128758480843297.5]\n",
      "[11893247989320.453, 1725015134209.963, 10267837371934.922]\n",
      "[-228474098039881.03, 20440067381930.625, -154246276585552.2]\n",
      "[8.924859352713442e+16, 4.735096284028511e+16, 3.85628449628008e+16]\n",
      "[99508559325.12276, 81169851361.48335, 254269493805.60925]\n",
      "[5.199498803851944e+24, -2.1455814231492962e+23, 1.7787297898549888e+24]\n",
      "[-2.7300122141555936e+54, -1.0743313754334977e+54, -7.03747514630702e+54]\n",
      "[1034315203881074.2, 1397690067398113.0, 2515121188132314.5]\n",
      "[4.982749237661641e+37, 1.107919994532194e+37, 8.365665057111157e+37]\n",
      "[165941207396.62836, -69571095557.63884, 281479320643.0565]\n",
      "[-1.1552371231017692e+76, -1.6332584396948373e+75, -9.789221338670025e+74]\n",
      "[-20298806471.08805, -12803838352.162878, -13299101176.572323]\n",
      "[73683260414.9375, 929343190549.6328, 1710228805892.8213]\n",
      "[-14481739337872.543, -20521927126694.48, -49362801484588.66]\n",
      "[-3.567980914588777e+40, -5.497610369238805e+39, -1.5810479539546068e+41]\n",
      "[-501.18795745129364, -21.547274100253162, -2030.02579804983]\n",
      "[2883960016678.3804, 1408321059509.4885, 3340469364236.6606]\n",
      "[-5.644431155687602e+56, 2.2060725551057058e+55, -1.0908453373837417e+55]\n",
      "[36989494279.67351, 11596386511.564827, 21232357029.396786]\n",
      "[-1.3298970706768843e+23, -2.5029854590818383e+21, -6.564671280688036e+21]\n",
      "[1.0591166039323386e+19, 2.3382080617995663e+18, 2.763278438308917e+18]\n",
      "[7.503385261758594e+21, 5.995122684658719e+21, 1.1705932368522988e+22]\n",
      "[-723392131215264.5, -174268016371493.62, -487798659315527.2]\n",
      "[1.6768798277444895e+19, 4.805999412854991e+18, 1.0214304058055254e+19]\n",
      "[2.6132691739526934e+128, 6.048199165606071e+127, 8.202454206687857e+127]\n",
      "[-1585.4673786822468, -174.46367452325285, -457.7408182376271]\n",
      "[-1.8959127574326313e+39, -3.0425591795546546e+39, -9.526659525979621e+39]\n",
      "[6394334069.747942, -1298662577.6196728, 4553281788.83279]\n",
      "[-121316122104509.72, -27258191124616.117, -9816986325873.523]\n",
      "[1.8857015769245765e+47, 3.4759013640798107e+46, 1.1210291499739852e+47]\n",
      "[23872649124.528656, 4461777648.981894, 8270845555.083321]\n",
      "[-571.4085875108099, -430.15005810763796, -1262.1566789892963]\n",
      "[-11111.31518334664, -13419.584535341164, -6887.861831274196]\n",
      "[-2650426941.0075045, -1988206681.4720223, -5346995721.861655]\n",
      "[10180211697876.656, -729610489429.9277, 3473934681468.821]\n",
      "[194660432995829.6, 4533625674072.086, 70024882049540.35]\n",
      "[1.3098005414599544e+29, 1.1043674272820598e+29, 1.6230024835142414e+29]\n",
      "[6.794713379369781e+66, 4.868954625343573e+65, 9.199717934750856e+65]\n",
      "[1.6238654637637616e+28, 3.096600868620617e+27, 7.69194441131369e+27]\n",
      "[2138982044.49856, 2900212256.5322585, 5706480252.331326]\n",
      "[-416321011275.49945, 11031527066.610657, -428220445177.9577]\n",
      "[2.019195714292815e+24, 1.059118045964622e+24, 9.889040793103868e+22]\n",
      "[-2.374121109152511e+18, -2.2814994264581253e+18, -6.071897982391816e+18]\n",
      "[-155661768555.2674, -76926617811.90726, -199114034294.3896]\n",
      "[-1.0898673147985792e+52, -1.3965331338940478e+51, -6.480358921748953e+51]\n",
      "[4.9590939241443413e+39, 2.3999759553667753e+39, 2.498031258976094e+39]\n",
      "[-9.930296847345832e+103, -1.6889571549744205e+102, -5.541176318688429e+102]\n",
      "[2.878944404256598e+41, 1.9179813471960773e+41, 4.8657836694728924e+41]\n",
      "[8101248944.944361, 7353142301.539373, 12780086279.470644]\n",
      "[-36124554397.449646, -33912220994.68416, -100607458755.44617]\n",
      "[-3333333464.765171, -25914383085.77259, -59769991254.3798]\n",
      "[2.3939474238618947e+30, 5.853178703178524e+30, 6.262007363151942e+30]\n",
      "0.195\n"
     ]
    }
   ],
   "source": [
    "# Definindo uma acurácia\n",
    "acuracia = 0\n",
    "\n",
    "# Definindo duas listas com as mensagens e os targets\n",
    "test_mensagens = list(test['Mensagem'])\n",
    "test_targets = list(test['Target'])\n",
    "\n",
    "i = 0\n",
    "while i < len(test_mensagens):\n",
    "    mensagem = test_mensagens[i]\n",
    "    target = test_targets[i]\n",
    "\n",
    "    categoria = classificador(mensagem)\n",
    "    if categoria == target:\n",
    "        acuracia += 1\n",
    "    \n",
    "    i += 1\n",
    "\n",
    "acuracia = acuracia/len(test_mensagens)\n",
    "print(acuracia)"
   ]
  },
  {
   "cell_type": "markdown",
   "metadata": {},
   "source": [
    "Agora vamos testar o nosso programa com uma base de dados teste!"
   ]
  },
  {
   "cell_type": "code",
   "execution_count": null,
   "metadata": {},
   "outputs": [],
   "source": []
  },
  {
   "cell_type": "code",
   "execution_count": null,
   "metadata": {},
   "outputs": [],
   "source": []
  },
  {
   "cell_type": "markdown",
   "metadata": {},
   "source": [
    "___\n",
    "### Concluindo"
   ]
  },
  {
   "cell_type": "code",
   "execution_count": null,
   "metadata": {},
   "outputs": [],
   "source": []
  },
  {
   "cell_type": "code",
   "execution_count": null,
   "metadata": {},
   "outputs": [],
   "source": []
  },
  {
   "cell_type": "code",
   "execution_count": null,
   "metadata": {},
   "outputs": [],
   "source": []
  },
  {
   "cell_type": "markdown",
   "metadata": {},
   "source": [
    "___\n",
    "### Qualidade do Classificador a partir de novas separações dos tweets entre Treinamento e Teste\n",
    "\n",
    "Caso for fazer esse item do Projeto"
   ]
  },
  {
   "cell_type": "code",
   "execution_count": null,
   "metadata": {},
   "outputs": [],
   "source": []
  },
  {
   "cell_type": "code",
   "execution_count": null,
   "metadata": {},
   "outputs": [],
   "source": []
  },
  {
   "cell_type": "code",
   "execution_count": null,
   "metadata": {},
   "outputs": [],
   "source": []
  },
  {
   "cell_type": "markdown",
   "metadata": {},
   "source": [
    "___\n",
    "## Aperfeiçoamento:\n",
    "\n",
    "Trabalhos que conseguirem pelo menos conceito B vão evoluir em conceito dependendo da quantidade de itens avançados:\n",
    "\n",
    "* IMPLEMENTOU outras limpezas e transformações que não afetem a qualidade da informação contida nos tweets. Ex: stemming, lemmatization, stopwords\n",
    "* CONSIDEROU mais de duas categorias na variável Target e INCREMENTOU a quantidade de notícias, mantendo pelo menos 250 notícias por categoria (OBRIGATÓRIO PARA TRIOS, sem contar como item avançado)\n",
    "* Para Target com duas categorias: CRIOU pelo menos quatro categorias intermediárias de relevância baseadas na probabilidade: ex.: muito relevante, relevante, neutro, irrelevante, muito irrelevante\n",
    "* EXPLICOU porquê não pode usar o próprio classificador para gerar mais amostras de treinamento\n",
    "* PROPÔS diferentes cenários para Naïve Bayes fora do contexto do projeto (pelo menos dois cenários, exceto aqueles já apresentados em sala pelos professores: por exemplo, filtro de spam)\n",
    "* SUGERIU e EXPLICOU melhorias reais com indicações concretas de como implementar (indicar como fazer e indicar material de pesquisa)\n",
    "* FEZ o item Qualidade do Classificador a partir de novas separações das Notícias entre Treinamento e Teste descrito no enunciado do projeto (OBRIGATÓRIO para conceitos A ou A+)"
   ]
  },
  {
   "cell_type": "markdown",
   "metadata": {},
   "source": [
    "___\n",
    "## Referências"
   ]
  },
  {
   "cell_type": "markdown",
   "metadata": {},
   "source": [
    "[Naive Bayes and Text Classification](https://arxiv.org/pdf/1410.5329.pdf)  **Mais completo**\n",
    "\n",
    "[A practical explanation of a Naive Bayes Classifier](https://monkeylearn.com/blog/practical-explanation-naive-bayes-classifier/) **Mais simples**\n",
    "\n",
    "[Aprendizagem Bayesiana](https://www.inf.ufpr.br/menotti/ci171-182/slides/ci171-bayes.pdf) **UFPR**\n",
    "\n",
    "[Analytics Vidhy](https://www.analyticsvidhya.com/blog/2021/04/improve-naive-bayes-text-classifier-using-laplace-smoothing/) **Mais sobre a suavização de Laplace**\n",
    "\n",
    "[Regular expression operations](https://docs.python.org/3/library/re.html#) **Biblioteca para a função cleanup**"
   ]
  }
 ],
 "metadata": {
  "kernelspec": {
   "display_name": "Python 3",
   "language": "python",
   "name": "python3"
  },
  "language_info": {
   "codemirror_mode": {
    "name": "ipython",
    "version": 3
   },
   "file_extension": ".py",
   "mimetype": "text/x-python",
   "name": "python",
   "nbconvert_exporter": "python",
   "pygments_lexer": "ipython3",
   "version": "3.9.13"
  }
 },
 "nbformat": 4,
 "nbformat_minor": 4
}
